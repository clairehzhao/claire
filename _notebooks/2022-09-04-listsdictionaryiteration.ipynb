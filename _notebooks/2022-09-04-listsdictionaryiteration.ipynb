{
 "cells": [
  {
   "cell_type": "markdown",
   "metadata": {},
   "source": [
    "# Info Data Base\n",
    "> List Dictionary Iteration using python\n",
    "- categories: [python, markdown, week2, jupyter] "
   ]
  },
  {
   "cell_type": "markdown",
   "metadata": {},
   "source": [
    "The database InfoDb has information on two schools. Each including their name, principal, year the school was built, school level, number of students, number of teachers, zip code, and the school colors. Using the school name, this information will be found through through the dictionary."
   ]
  },
  {
   "cell_type": "code",
   "execution_count": 2,
   "metadata": {},
   "outputs": [
    {
     "name": "stdout",
     "output_type": "stream",
     "text": [
      "[{'SchoolName': 'Del Norte High School', 'Principal': 'Bryan Schultz', 'Founded': '2009', 'SchoolLevel': 'Highschool', 'StudentNumber': '2585', 'TeacherNumber': '92', 'Zipcode': '92127', 'SchoolColors': ['Navy Blue, Forest Green, Vegas Gold']}, {'SchoolName': 'Westview High School', 'Principal': 'Ernie Remillard', 'Founded': '2002', 'SchoolLevel': 'Highschool', 'StudentNumber': '2376', 'TeacherNumber': '85', 'Zipcode': '92129', 'SchoolColors': ['Black, White, Vegas Gold']}]\n"
     ]
    }
   ],
   "source": [
    "InfoDb = []\n",
    "\n",
    "# Append to List a Dictionary of key/value related to the school and information\n",
    "InfoDb.append({\n",
    "    \"SchoolName\": \"Del Norte High School\",\n",
    "    \"Principal\": \"Bryan Schultz\",\n",
    "    \"Founded\": \"2009\",\n",
    "    \"SchoolLevel\": \"Highschool\",\n",
    "    \"StudentNumber\": \"2585\",\n",
    "    \"TeacherNumber\": \"92\",\n",
    "    \"Zipcode\": \"92127\",\n",
    "    \"SchoolColors\": [\"Navy Blue, Forest Green, Vegas Gold\"]\n",
    "\n",
    "})\n",
    "\n",
    "# Append to List a 2nd Dictionary with key/values\n",
    "InfoDb.append({\n",
    "    \"SchoolName\": \"Westview High School\",\n",
    "    \"Principal\": \"Ernie Remillard\",\n",
    "    \"Founded\": \"2002\",\n",
    "    \"SchoolLevel\": \"Highschool\",\n",
    "    \"StudentNumber\": \"2376\",\n",
    "    \"TeacherNumber\": \"85\",\n",
    "    \"Zipcode\": \"92129\",\n",
    "    \"SchoolColors\": [\"Black, White, Vegas Gold\"]\n",
    "\n",
    "})\n",
    "\n",
    "# Print Data Structure\n",
    "print(InfoDb)"
   ]
  },
  {
   "cell_type": "markdown",
   "metadata": {},
   "source": [
    "In the code above, both schools information was saved in the dictionary."
   ]
  },
  {
   "cell_type": "code",
   "execution_count": 7,
   "metadata": {},
   "outputs": [
    {
     "name": "stdout",
     "output_type": "stream",
     "text": [
      "Del Norte High School\n",
      "\t Principal: Bryan Schultz\n",
      "\t Founded: 2009\n",
      "\t School Type: Highschool\n",
      "\t Number of Students: 2585\n",
      "\t Number of Teachers: 92\n",
      "\t ZipCode: 92127\n",
      "\t School Colors: ['Navy Blue, Forest Green, Vegas Gold']\n",
      "Westview High School\n",
      "\t Principal: Ernie Remillard\n",
      "\t Founded: 2002\n",
      "\t School Type: Highschool\n",
      "\t Number of Students: 2376\n",
      "\t Number of Teachers: 85\n",
      "\t ZipCode: 92129\n",
      "\t School Colors: ['Black, White, Vegas Gold']\n"
     ]
    }
   ],
   "source": [
    "def print_data(d_school):\n",
    "    print(d_school[\"SchoolName\"])\n",
    "    print(\"\\t\", \"Principal:\", d_school[\"Principal\"])\n",
    "    print(\"\\t\", \"Founded:\", d_school[\"Founded\"])\n",
    "    print(\"\\t\", \"School Type:\", d_school[\"SchoolLevel\"])\n",
    "    print(\"\\t\", \"Number of Students:\", d_school[\"StudentNumber\"])\n",
    "    print(\"\\t\", \"Number of Teachers:\", d_school[\"TeacherNumber\"])\n",
    "    print(\"\\t\", \"ZipCode:\", d_school[\"Zipcode\"])\n",
    "    print(\"\\t\", \"School Colors:\", d_school[\"SchoolColors\"])\n",
    "\n",
    "# for loop algorithm iterates on length of InfoDb\n",
    "def for_loop():\n",
    "    for record in InfoDb:\n",
    "        print_data(record)\n",
    "    \n",
    "for_loop()"
   ]
  },
  {
   "cell_type": "markdown",
   "metadata": {},
   "source": [
    "In the code above, the for loop was able to iterate over the InfoDb to find the information of the school and print the information."
   ]
  },
  {
   "cell_type": "code",
   "execution_count": 8,
   "metadata": {},
   "outputs": [
    {
     "name": "stdout",
     "output_type": "stream",
     "text": [
      "Del Norte High School\n",
      "\t Principal: Bryan Schultz\n",
      "\t Founded: 2009\n",
      "\t School Type: Highschool\n",
      "\t Number of Students: 2585\n",
      "\t Number of Teachers: 92\n",
      "\t ZipCode: 92127\n",
      "\t School Colors: ['Navy Blue, Forest Green, Vegas Gold']\n",
      "Westview High School\n",
      "\t Principal: Ernie Remillard\n",
      "\t Founded: 2002\n",
      "\t School Type: Highschool\n",
      "\t Number of Students: 2376\n",
      "\t Number of Teachers: 85\n",
      "\t ZipCode: 92129\n",
      "\t School Colors: ['Black, White, Vegas Gold']\n"
     ]
    }
   ],
   "source": [
    "def while_loop():\n",
    "    i = 0\n",
    "    while i < len(InfoDb):\n",
    "        record = InfoDb[i]\n",
    "        print_data(record)\n",
    "        i += 1\n",
    "    return\n",
    "\n",
    "while_loop()"
   ]
  },
  {
   "cell_type": "markdown",
   "metadata": {},
   "source": [
    "The while loop above printed the school's information as long as the variable being used is less than the length of the InfoDb."
   ]
  },
  {
   "cell_type": "code",
   "execution_count": 9,
   "metadata": {},
   "outputs": [
    {
     "name": "stdout",
     "output_type": "stream",
     "text": [
      "Del Norte High School\n",
      "\t Principal: Bryan Schultz\n",
      "\t Founded: 2009\n",
      "\t School Type: Highschool\n",
      "\t Number of Students: 2585\n",
      "\t Number of Teachers: 92\n",
      "\t ZipCode: 92127\n",
      "\t School Colors: ['Navy Blue, Forest Green, Vegas Gold']\n",
      "Westview High School\n",
      "\t Principal: Ernie Remillard\n",
      "\t Founded: 2002\n",
      "\t School Type: Highschool\n",
      "\t Number of Students: 2376\n",
      "\t Number of Teachers: 85\n",
      "\t ZipCode: 92129\n",
      "\t School Colors: ['Black, White, Vegas Gold']\n"
     ]
    }
   ],
   "source": [
    "def recursive_loop(i):\n",
    "    if i < len(InfoDb):\n",
    "        record = InfoDb[i]\n",
    "        print_data(record)\n",
    "        recursive_loop(i + 1)\n",
    "    return\n",
    "\n",
    "recursive_loop(0)"
   ]
  },
  {
   "cell_type": "markdown",
   "metadata": {},
   "source": [
    "The code above was able to print the school information by using a recursive loop, which calls itself repeatedly."
   ]
  },
  {
   "cell_type": "code",
   "execution_count": 33,
   "metadata": {},
   "outputs": [
    {
     "name": "stdout",
     "output_type": "stream",
     "text": [
      "School Name: Del Norte High School\n",
      "Information: Zipcode: 92127\n"
     ]
    }
   ],
   "source": [
    "input_schoolname = input(\"Enter which school you would like to search for:\")\n",
    "input_information = input(\"Enter what you are searching for: ex. Principal, SchoolName, Founded, SchoolLevel, StudentNumber, TeacherNumber, Zipcode, or SchoolColors\")\n",
    "\n",
    "# define function to print records\n",
    "def search_school():\n",
    "    \n",
    "    for info in InfoDb:\n",
    "        found_school = 0\n",
    "        found_info = 0\n",
    "        found_key = \"\"\n",
    "        for key in info:\n",
    "            if (found_school == 0):\n",
    "                if info[key] == input_schoolname:\n",
    "                    found_school = 1\n",
    "                    # print(\"School is found\" + str(found_school) + \"\\n\")\n",
    "            if (found_info == 0):\n",
    "                if key == input_information:\n",
    "                    found_key = key\n",
    "                    found_info = 1\n",
    "                    # print(\"key is \" + key + \"\\n\")\n",
    "    \n",
    "        if (found_school == 1 and found_info == 1):\n",
    "            print(\"School Name: \" + input_schoolname)\n",
    "            print(\"Information: \" + found_key + \": \" + info[found_key])\n",
    "            return\n",
    "    if (found_school == 0 or found_info == 0):\n",
    "        print(\"Information not found.\")\n",
    "\n",
    "search_school()"
   ]
  },
  {
   "cell_type": "markdown",
   "metadata": {},
   "source": [
    "Using a for loop the code was able to take information from the dictionary and compare it with the user input. By doing so, the user can choose which piece of information it would like to view."
   ]
  }
 ],
 "metadata": {
  "kernelspec": {
   "display_name": "Python 3.10.6 64-bit",
   "language": "python",
   "name": "python3"
  },
  "language_info": {
   "codemirror_mode": {
    "name": "ipython",
    "version": 3
   },
   "file_extension": ".py",
   "mimetype": "text/x-python",
   "name": "python",
   "nbconvert_exporter": "python",
   "pygments_lexer": "ipython3",
   "version": "3.10.6"
  },
  "orig_nbformat": 4,
  "vscode": {
   "interpreter": {
    "hash": "b0fa6594d8f4cbf19f97940f81e996739fb7646882a419484c72d19e05852a7e"
   }
  }
 },
 "nbformat": 4,
 "nbformat_minor": 2
}
