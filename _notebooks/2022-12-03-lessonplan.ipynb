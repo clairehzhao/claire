{
 "cells": [
  {
   "cell_type": "markdown",
   "metadata": {},
   "source": [
    "# Unit 3 Lesson 11 Lesson Plan\n",
    "> Lesson Plan for Student Teaching\n",
    "- toc: true\n",
    "- categories: [week15, jupyter, python, markdown]"
   ]
  },
  {
   "cell_type": "markdown",
   "metadata": {},
   "source": [
    "## Lesson 3.11 Binary Search\n",
    "Binary Search Steps:\n",
    "- first put the numbers in order (ascending or descending)\n",
    "- find the middle number first\n",
    "    - this is found by taking the highest index number plus the lowest indext number and divide by 2\n",
    "![photo](https://cdn.discordapp.com/attachments/806618712056528906/1049218338116620339/IMG_8574.jpg)\n",
    "    - the numbers on the right will be greater and the numbers on the left will be smaller\n",
    "    - this can be represented with a binary tree\n",
    "        - middle number with the smaller number branched off on the left and bigger numbers branched off on the right\n",
    "![photo](https://cdn.discordapp.com/attachments/806618712056528906/1049218809539592212/IMG_1541.jpg)"
   ]
  }
 ],
 "metadata": {
  "kernelspec": {
   "display_name": "Python 3.10.6 64-bit",
   "language": "python",
   "name": "python3"
  },
  "language_info": {
   "name": "python",
   "version": "3.10.6"
  },
  "orig_nbformat": 4,
  "vscode": {
   "interpreter": {
    "hash": "b0fa6594d8f4cbf19f97940f81e996739fb7646882a419484c72d19e05852a7e"
   }
  }
 },
 "nbformat": 4,
 "nbformat_minor": 2
}
