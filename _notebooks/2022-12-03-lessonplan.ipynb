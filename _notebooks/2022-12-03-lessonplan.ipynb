{
 "cells": [
  {
   "cell_type": "markdown",
   "metadata": {},
   "source": [
    "# Unit 3 Lesson 11 Lesson Plan\n",
    "> Lesson Plan for Student Teaching Binary Search\n",
    "- toc: true\n",
    "- categories: [student teaching, week15, jupyter, python, markdown]"
   ]
  },
  {
   "cell_type": "markdown",
   "metadata": {},
   "source": [
    "## Lesson 3.11 Binary Search\n",
    "### Binary Search:\n",
    "repeatedly dividing a search interval in half\n",
    "### Binary Search Steps:\n",
    "- first put the numbers in order\n",
    "    - ascending\n",
    "    - descending\n",
    "- find the middle number first\n",
    "    - this is found by taking the highest index number plus the lowest index number and divide by 2\n",
    "![photo](https://cdn.discordapp.com/attachments/806618712056528906/1049218338116620339/IMG_8574.jpg)\n",
    "    - the numbers on the right will be greater and the numbers on the left will be smaller\n",
    "    - this can be represented with a binary tree\n",
    "        - middle number with the smaller number branched off on the left and bigger numbers branched off on the right\n",
    "![photo](https://cdn.discordapp.com/attachments/806618712056528906/1049218809539592212/IMG_1541.jpg)\n",
    "- these lists are not always numbers\n",
    "    - lists can be made with strings\n",
    "    - ex. [\"apple\", \"banana\", \"cherry\", \"peach\", \"watermelon\"]\n",
    "    - alphabetical order\n",
    "        - a-z\n",
    "        - z-a\n",
    "\n",
    "### Practice:\n",
    "\n",
    "1. What is the middle number in a Binary Search given the following set of numbers in order: 1, 5, 19, 44, 89\n",
    "2. What is the middle number in a Binary Search given the following set of numbers that are not in order: 3, 87, 12, 66, 22\n",
    "\n",
    "### Hacks:\n",
    "\n",
    "1. calculate the middle index and create a binary tree for each of these lists\n",
    "    - 12, 14, 43, 57, 79, 80, 99\n",
    "    - 92, 43, 74, 66, 30, 12, 1\n",
    "    - 7, 13, 96, 111, 33, 84, 60\n",
    "2. Using one of the sets of numbers from the question above, what would be the second number looked at in a binary search if the number is more than the middle number?\n",
    "3. Which of the following lists can NOT a binary search be used in order to find a targeted value?\n",
    "\n",
    "    a. [\"amy\", \"beverly\", \"christian\", \"devin\"]\n",
    "\n",
    "    b. [-1, 2, 6, 9, 19]\n",
    "\n",
    "    c. [3, 2, 8, 12, 99]\n",
    "    \n",
    "    d. [\"xylophone\", \"snowman\", \"snake\", \"doorbell\", \"author\"]\n",
    "\n",
    "### Rubric:\n",
    "0.25/0.25 - shows full understanding of binary search, completes all hacks assigned with explanation to go above and beyond, any extra hacks to show more understanding\n",
    "\n",
    "0.23/0.25 - shows understanding of binary search and completes all hacks\n",
    "\n",
    "0.20/0.25 - does not understand binary search and has not completed hacks"
   ]
  }
 ],
 "metadata": {
  "kernelspec": {
   "display_name": "Python 3.10.6 64-bit",
   "language": "python",
   "name": "python3"
  },
  "language_info": {
   "name": "python",
   "version": "3.10.6"
  },
  "orig_nbformat": 4,
  "vscode": {
   "interpreter": {
    "hash": "b0fa6594d8f4cbf19f97940f81e996739fb7646882a419484c72d19e05852a7e"
   }
  }
 },
 "nbformat": 4,
 "nbformat_minor": 2
}
