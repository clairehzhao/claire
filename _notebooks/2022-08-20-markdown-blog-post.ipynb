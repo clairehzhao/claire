{
 "cells": [
  {
   "cell_type": "markdown",
   "metadata": {},
   "source": [
    "# Markdown Post\n",
    "> Post made using markdown\n",
    "\n",
    "---\n",
    "\n",
    "##### Markdown can be used to format text when writing. \n",
    "### Some feautures include:\n",
    "1. **bold text**\n",
    "2. *italicized text*\n",
    "3. emojis 😊 \n",
    "4. <span style=\"color:pink\"> color <span style=\"color:blue\"> color <span style=\"color:red\"> color <span style=\"color:green\"> color\n",
    "5. <span style=\"font-family:Times New Roman\">different fonts</span>\n",
    "6. ~~striketrhough~~\n",
    "7. images\n",
    "\n",
    "![del norte logo](https://static.hudl.com/users/temp/3810370_e7a57bba12ae4ded938d751e12dfc9c6.jpg)"
   ]
  }
 ],
 "metadata": {
  "kernelspec": {
   "display_name": "Python 3.10.6 64-bit",
   "language": "python",
   "name": "python3"
  },
  "language_info": {
   "name": "python",
   "version": "3.10.6"
  },
  "orig_nbformat": 4,
  "vscode": {
   "interpreter": {
    "hash": "b0fa6594d8f4cbf19f97940f81e996739fb7646882a419484c72d19e05852a7e"
   }
  }
 },
 "nbformat": 4,
 "nbformat_minor": 2
}
