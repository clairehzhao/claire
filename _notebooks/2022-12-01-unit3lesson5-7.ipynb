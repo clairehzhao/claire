{
 "cells": [
  {
   "cell_type": "markdown",
   "metadata": {},
   "source": [
    "# Unit 3 Lesson 5-7 Hacks and Notes\n",
    "> Hacks to show understanding\n",
    "- toc: true\n",
    "- categories: [student teaching, week14, jupyter, python, markdown]"
   ]
  },
  {
   "cell_type": "markdown",
   "metadata": {},
   "source": [
    "## Notes:\n",
    "- boolean\n",
    "    - true or false\n",
    "- relational operators\n",
    "    - mathematical relationship between two variables\n",
    "    - a = b\n",
    "    - a > b\n",
    "- logical operators\n",
    "    - not (opposite of whatever the data is)\n",
    "    - and (evaluate two conditions together and determine if both conditions are met)\n",
    "    - or (function only looks to see if one of the conditions is met wthen will)\n",
    "- conditionals\n",
    "    - selection: specific block of coce that will execute depending on the algorithm condition returning true or false\n",
    "    - algorithm: finite set of instructions that accomplish a specific task\n",
    "    - conditional statement/if-statement: statement that affects the sequence of control by executing certain statments depending on the value of a boolean\n",
    "- nested conditionals \n",
    "    - consists of conditional statements within conditional statements\n",
    "    - one inside the other\n",
    "    - can have three different conditions"
   ]
  },
  {
   "cell_type": "markdown",
   "metadata": {},
   "source": [
    "## Hacks:\n",
    "### Lesson 3.5 \n",
    "- Explain in your own words what each logical operator does:\n",
    "    - not: output is the opposite of the input given (ex. given true then NOT would display false)\n",
    "    - and: putting two conditions together and seeing if the input meets both conditions (ex. the number 24 must be less than 70 but greater than 20, this would be true)\n",
    "    - or: only checks to see if one of the given conditions are met for the input (ex. if money is less than 0 or age is greater than 25 then -1 would end game)\n",
    "- Code your own scenario that makes sense for each logical operator"
   ]
  },
  {
   "cell_type": "code",
   "execution_count": 1,
   "metadata": {},
   "outputs": [
    {
     "name": "stdout",
     "output_type": "stream",
     "text": [
      "NOT:\n",
      "True\n",
      "\n",
      "AND:\n",
      "You may proceed.\n",
      "\n",
      "OR:\n",
      "You are eligable.\n"
     ]
    }
   ],
   "source": [
    "print(\"NOT:\")\n",
    "isSunny = False\n",
    "result = not(isSunny)\n",
    "print(result) # will print true bc opposite of false with not in result\n",
    "print(\"\")\n",
    "\n",
    "print(\"AND:\")\n",
    "age = 25\n",
    "height = 5\n",
    "if age <= 30 and height >= 4:\n",
    "    print(\"You may proceed.\") # needs to meet both requirements of age and height\n",
    "print(\"\")\n",
    "\n",
    "print(\"OR:\")\n",
    "age = 20\n",
    "money = 100\n",
    "if age >= 18 or money <= 500:\n",
    "    print(\"You are eligable.\")\n"
   ]
  },
  {
   "cell_type": "markdown",
   "metadata": {},
   "source": [
    "### Lesson 3.6\n",
    "- 1 point for defining all key terms in your own words\n",
    "    - selection: depending on the conditiion using true or false, select a block of code to execute \n",
    "    - algorithm: a block of code that is like instrucutions to complete a task\n",
    "    - conditional statment/if-statment: code that makes decisions of how code is executed based on the if the condition given is true or false\n",
    "- 1 point for each challenge that your program or pair program\n",
    "    - challenge 1:\n"
   ]
  },
  {
   "cell_type": "code",
   "execution_count": 1,
   "metadata": {},
   "outputs": [
    {
     "name": "stdout",
     "output_type": "stream",
     "text": [
      "7\n"
     ]
    }
   ],
   "source": [
    "inputstring = input(\"Type any sentence.\")\n",
    "def vowel(inputstring): # define function\n",
    "    count = 0\n",
    "    for char in inputstring:\n",
    "        if char == \"a\" or char == \"e\" or char == \"i\" or char == \"o\" or char == \"u\":\n",
    "            count = count + 1\n",
    "    print(count)\n",
    "\n",
    "vowel(inputstring) # call function"
   ]
  },
  {
   "cell_type": "markdown",
   "metadata": {},
   "source": [
    "input \"hey my name is claire\", output showing the number of vowels in the sentence."
   ]
  },
  {
   "cell_type": "markdown",
   "metadata": {},
   "source": [
    "### Lesson 3.7\n",
    "- create 3 different flow charts representing nested statements and transfer them into code"
   ]
  },
  {
   "cell_type": "markdown",
   "metadata": {},
   "source": [
    "1. ![flowchart1](https://cdn.discordapp.com/attachments/806618712056528906/1049118422266560522/IMG_3418.jpg)"
   ]
  },
  {
   "cell_type": "code",
   "execution_count": 17,
   "metadata": {},
   "outputs": [
    {
     "name": "stdout",
     "output_type": "stream",
     "text": [
      "34 is greater than 12\n",
      "Success\n"
     ]
    }
   ],
   "source": [
    "age1 = input(\"Enter an age.\")\n",
    "age2 = input(\"Enter an age.\")\n",
    "if age1 == age2:\n",
    "    print(\"Match!\")\n",
    "else:\n",
    "    if age1 < age2:\n",
    "        print(age1 + \" is less than \" + age2)\n",
    "    elif age1 > age2:\n",
    "        print(age1 + \" is greater than \" + age2)\n",
    "\n",
    "print(\"Success\")"
   ]
  },
  {
   "cell_type": "markdown",
   "metadata": {},
   "source": [
    "2. ![flowchart2](https://cdn.discordapp.com/attachments/806618712056528906/1049111567855271956/IMG_0813.jpg)"
   ]
  },
  {
   "cell_type": "code",
   "execution_count": 15,
   "metadata": {},
   "outputs": [
    {
     "name": "stdout",
     "output_type": "stream",
     "text": [
      "Not within budget\n",
      "Success\n"
     ]
    }
   ],
   "source": [
    "houseLocation = \"san diego\"\n",
    "housePrice = 1000000\n",
    "location = input(\"Where is the house you are looking at located?\")\n",
    "price = input(\"How much is the house?\")\n",
    "if houseLocation == location:\n",
    "    if housePrice > int(price):\n",
    "        print(\"Purchase House\")\n",
    "    else:\n",
    "        print(\"Not within budget\")\n",
    "\n",
    "else:\n",
    "    if housePrice > int(price)/3:\n",
    "        print(\"Purchase House\")\n",
    "    else:\n",
    "        print(\"Not within budget or in right location\")\n",
    "\n",
    "print(\"Success\")"
   ]
  },
  {
   "cell_type": "markdown",
   "metadata": {},
   "source": [
    "3. ![flowchart3](https://cdn.discordapp.com/attachments/806618712056528906/1049143427461304320/IMG_0243.jpg)"
   ]
  },
  {
   "cell_type": "code",
   "execution_count": 22,
   "metadata": {},
   "outputs": [
    {
     "name": "stdout",
     "output_type": "stream",
     "text": [
      "Great Job! You passed with an amazing score.\n",
      "Success\n"
     ]
    }
   ],
   "source": [
    "testScore = input(\"What did you score on this test?\")\n",
    "if int(testScore) >= 70:\n",
    "    if int(testScore) >= 85:\n",
    "        print(\"Great Job! You passed with an amazing score.\")\n",
    "    else:\n",
    "        print(\"Good Job! You passed.\")\n",
    "else:\n",
    "    print(\"You did not pass.\")\n",
    "\n",
    "print(\"Success\")"
   ]
  },
  {
   "cell_type": "markdown",
   "metadata": {},
   "source": [
    "- create a piece of code that displays four statements instead of three"
   ]
  },
  {
   "cell_type": "code",
   "execution_count": 5,
   "metadata": {},
   "outputs": [
    {
     "name": "stdout",
     "output_type": "stream",
     "text": [
      "Oh no, that is not enough sleep.\n"
     ]
    }
   ],
   "source": [
    "sleep = input(\"How many hours of sleep did you get last night?\")\n",
    "if int(sleep) >= 7:\n",
    "    if int(sleep) >= 9:\n",
    "        print(\"Wow! That is an amazing amount of sleep.\")\n",
    "    else:\n",
    "        print(\"Nice! That is a good amount of sleep.\")\n",
    "else:\n",
    "    if int(sleep) <= 4:\n",
    "        print(\"Oh no, that is not enough sleep.\")\n",
    "    else:\n",
    "        print(\"Okay, that is an average amount of sleep.\")"
   ]
  },
  {
   "cell_type": "markdown",
   "metadata": {},
   "source": [
    "- make piece of code that gives three different recommandations for possible classes to take at a school based on two different condtions. these conditions could be if the student likes STEM or not."
   ]
  },
  {
   "cell_type": "code",
   "execution_count": 7,
   "metadata": {},
   "outputs": [
    {
     "name": "stdout",
     "output_type": "stream",
     "text": [
      "Okay! You should take: ['APEL', 'APUSH', 'AP Lit', 'AP Art']\n"
     ]
    }
   ],
   "source": [
    "stem = input(\"Do you enjoy taking STEM classes?\")\n",
    "if stem == \"yes\":\n",
    "    listYes = [\"AP Calc AB\", \"APCSP\", \"AP Biology\", \"Engineering\"]\n",
    "    print(\"Great! You should take:\", listYes)\n",
    "else:\n",
    "    listNo = [\"APEL\", \"APUSH\", \"AP Lit\", \"AP Art\"]\n",
    "    print(\"Okay! You should take:\", listNo)"
   ]
  }
 ],
 "metadata": {
  "kernelspec": {
   "display_name": "Python 3.10.6 64-bit",
   "language": "python",
   "name": "python3"
  },
  "language_info": {
   "codemirror_mode": {
    "name": "ipython",
    "version": 3
   },
   "file_extension": ".py",
   "mimetype": "text/x-python",
   "name": "python",
   "nbconvert_exporter": "python",
   "pygments_lexer": "ipython3",
   "version": "3.10.6"
  },
  "orig_nbformat": 4,
  "vscode": {
   "interpreter": {
    "hash": "b0fa6594d8f4cbf19f97940f81e996739fb7646882a419484c72d19e05852a7e"
   }
  }
 },
 "nbformat": 4,
 "nbformat_minor": 2
}
