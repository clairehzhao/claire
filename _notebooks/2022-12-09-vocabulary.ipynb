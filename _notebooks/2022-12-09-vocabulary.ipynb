{
 "cells": [
  {
   "cell_type": "markdown",
   "metadata": {},
   "source": [
    "# Fundamental Vocabulary\n",
    "> Vocab terms and definitions\n",
    "- toc: true\n",
    "- categories: [jupyter, python, markdown]"
   ]
  },
  {
   "cell_type": "markdown",
   "metadata": {},
   "source": [
    "## Unit 2... Binary/Data Terms\n",
    "- bits: The smallest unit of data that a computer can process and store. A bit is always in one of two physical states, similar to an on/off light switch. The state is represented by a single binary value, usually a 0 or 1.\n",
    "\n",
    "- bytes: A byte is a unit of data that is eight binary digits long. A byte is the unit most computers use to represent a character such as a letter, number or typographic symbol. 00000000 - 11111111\n",
    "\n",
    "- hexadecimal / nibbles: Hexadecimal is a numbering system with base 16. It can be used to represent large numbers with fewer digits. In this system there are 16 symbols or possible digit values from 0 to 9, followed by six alphabetic characters -- A, B, C, D, E and F. It can be used for colors, ex. #FCD0E0\n",
    "\n",
    "- boolean: true or false value\n"
   ]
  },
  {
   "cell_type": "code",
   "execution_count": 3,
   "metadata": {},
   "outputs": [
    {
     "name": "stdout",
     "output_type": "stream",
     "text": [
      "True\n"
     ]
    },
    {
     "data": {
      "text/plain": [
       "False"
      ]
     },
     "execution_count": 3,
     "metadata": {},
     "output_type": "execute_result"
    }
   ],
   "source": [
    "z = 10 > 5\n",
    "print(z)\n",
    "\n",
    "a = \"pink\"\n",
    "b = \"red\"\n",
    "a == b"
   ]
  },
  {
   "cell_type": "markdown",
   "metadata": {},
   "source": [
    "## Unit 3... Algorithm/Programming Terms\n",
    "- variable: used to store information to be used and referred to"
   ]
  },
  {
   "cell_type": "code",
   "execution_count": 5,
   "metadata": {},
   "outputs": [
    {
     "name": "stdout",
     "output_type": "stream",
     "text": [
      "hey\n"
     ]
    }
   ],
   "source": [
    "x = \"hey\"\n",
    "print(x)"
   ]
  },
  {
   "cell_type": "markdown",
   "metadata": {},
   "source": [
    "- data types: integer, strings, boolean, lists, dictionaries\n",
    "\n",
    "- lists: abstract data type that represents a finite number of ordered values\n",
    "\n",
    "- dictionaries: an abstract data type that defines an unordered collection of data as a set of key-value pairs"
   ]
  },
  {
   "cell_type": "code",
   "execution_count": null,
   "metadata": {},
   "outputs": [],
   "source": [
    "classList = [\"calc\", \"bio\", \"engineering\", \"csp\"] # list\n",
    "classDict = {\"period1\": \"calc\", \"period2\": \"bio\"} # dictionary"
   ]
  },
  {
   "cell_type": "markdown",
   "metadata": {},
   "source": [
    "- assignment operators:\n",
    "    - addition: a + b\n",
    "    - subtraction: a - b\n",
    "    - multiplication: a * b\n",
    "    - division: a / b\n",
    "    - MOD: a % b"
   ]
  },
  {
   "cell_type": "code",
   "execution_count": 9,
   "metadata": {},
   "outputs": [
    {
     "name": "stdout",
     "output_type": "stream",
     "text": [
      "48\n",
      "1.5\n",
      "12\n",
      "-4\n",
      "0\n"
     ]
    }
   ],
   "source": [
    "x = 4\n",
    "y = 8\n",
    "z = 12\n",
    "result = z * x\n",
    "result1 = z / y\n",
    "result2 = x + y\n",
    "result3 = y - z\n",
    "result4 = z % x\n",
    "print(result)\n",
    "print(result1)\n",
    "print(result2)\n",
    "print(result3)\n",
    "print(result4)"
   ]
  },
  {
   "cell_type": "markdown",
   "metadata": {},
   "source": [
    "- sequence: the order in which the statements are executed\n",
    "\n",
    "- selection: a section of code is run only if a condition is met.\n",
    "\n",
    "- iteration: a repeating portion of an algorithm, repeats a specified number of times or until a given condition is met"
   ]
  }
 ],
 "metadata": {
  "kernelspec": {
   "display_name": "Python 3.10.6 64-bit",
   "language": "python",
   "name": "python3"
  },
  "language_info": {
   "codemirror_mode": {
    "name": "ipython",
    "version": 3
   },
   "file_extension": ".py",
   "mimetype": "text/x-python",
   "name": "python",
   "nbconvert_exporter": "python",
   "pygments_lexer": "ipython3",
   "version": "3.10.6"
  },
  "orig_nbformat": 4,
  "vscode": {
   "interpreter": {
    "hash": "b0fa6594d8f4cbf19f97940f81e996739fb7646882a419484c72d19e05852a7e"
   }
  }
 },
 "nbformat": 4,
 "nbformat_minor": 2
}
