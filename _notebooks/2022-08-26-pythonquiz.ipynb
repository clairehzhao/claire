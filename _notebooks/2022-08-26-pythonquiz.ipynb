{
 "cells": [
  {
   "cell_type": "markdown",
   "metadata": {},
   "source": [
    "# Python Vocab Quiz\n",
    "> Python term quiz made using python to quiz knowledge on Python"
   ]
  },
  {
   "cell_type": "code",
   "execution_count": 8,
   "metadata": {},
   "outputs": [
    {
     "name": "stdout",
     "output_type": "stream",
     "text": [
      "Hey! Claire\n",
      "Let's get started!\n",
      "Good job! That is correct!\n",
      "Great job! That is correct!\n",
      "Amazing! You know your stuff!\n",
      "Thats okay, you tried your best. The correct answer was boolean.\n",
      "Congratulations! You completed this quiz with an amazing score! You scored a: 3/4\n"
     ]
    }
   ],
   "source": [
    "#introduction:\n",
    "score = 0\n",
    "name = input(\"Enter your name:\")\n",
    "print(\"Hey! \" + name)\n",
    "ready = input(\"This quiz will have 4 questions that will test your abilities to identify python terms. Are you ready to start this quiz? Answer yes or no.\")\n",
    "if ready == \"yes\":\n",
    "    print(\"Let's get started!\")\n",
    "else:\n",
    "    print(\"YOU GOT THIS!\")\n",
    "\n",
    "#question 1:\n",
    "answer1 = input(\"Question 1: What term defines a function or method?\")\n",
    "if answer1 == \"def\":\n",
    "    print(\"Good job! That is correct!\")\n",
    "    score = score + 1\n",
    "else:\n",
    "    print(\"Nice try! The correct answer is def.\")\n",
    "\n",
    "#question 2:\n",
    "answer2 = input(\"Question 2: What is a series of characters?\")\n",
    "if answer2 == \"string\":\n",
    "    print(\"Great job! That is correct!\")\n",
    "    score = score + 1\n",
    "else:\n",
    "    print(\"That was a good try but the answer is string!\")\n",
    "\n",
    "#question 3:\n",
    "answer3 = input(\"Question 3: What input prints specified messages on the screen?\")\n",
    "if answer3 == \"print\":\n",
    "    print(\"Amazing! You know your stuff!\")\n",
    "    score = score + 1\n",
    "else:\n",
    "    print(\"That was a close one! The answer was print.\")\n",
    "\n",
    "#question 4:\n",
    "answer4 = input(\"Question 4: What is a value that is either true or false?\")\n",
    "if answer4 == \"boolean\":\n",
    "    print(\"You did great! That is correct!\")\n",
    "    score = score + 1\n",
    "else:\n",
    "    print(\"Thats okay, you tried your best. The correct answer was boolean.\")\n",
    "\n",
    "#ending score\n",
    "if score >= 3:\n",
    "    print(\"Congratulations! You completed this quiz with an amazing score! You scored a: {}/4\" .format(score))\n",
    "else:\n",
    "    print(\"Congratulations! You completed the quiz. Your score is a: {}/4\" .format(score))"
   ]
  }
 ],
 "metadata": {
  "kernelspec": {
   "display_name": "Python 3.10.6 64-bit",
   "language": "python",
   "name": "python3"
  },
  "language_info": {
   "codemirror_mode": {
    "name": "ipython",
    "version": 3
   },
   "file_extension": ".py",
   "mimetype": "text/x-python",
   "name": "python",
   "nbconvert_exporter": "python",
   "pygments_lexer": "ipython3",
   "version": "3.10.6"
  },
  "orig_nbformat": 4,
  "vscode": {
   "interpreter": {
    "hash": "b0fa6594d8f4cbf19f97940f81e996739fb7646882a419484c72d19e05852a7e"
   }
  }
 },
 "nbformat": 4,
 "nbformat_minor": 2
}
