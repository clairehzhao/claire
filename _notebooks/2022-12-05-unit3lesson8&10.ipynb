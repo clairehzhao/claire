{
 "cells": [
  {
   "cell_type": "markdown",
   "metadata": {},
   "source": [
    "# Unit 3 Lesson 8 & 10 Hacks and Notes\n",
    "> Hacks to show understanding\n",
    "- toc: true\n",
    "- categories: [student teaching, week15, jupyter, python, markdown]"
   ]
  },
  {
   "cell_type": "markdown",
   "metadata": {},
   "source": [
    "## Notes:\n",
    "- Iteration: a repeating portion of an algorithm, repeats a specified number of times or until a given condition is met\n",
    "- Iteration Statements: change the sequential flow of control by repeating a set of statements zero or more times, until a stopping condition is met\n",
    "- Repeat Until: if the condition evaluates to true initially, the loop body is not executed at all, due to the condition being checked before the loop.\n",
    "- Traversing Lists: where all elements in the list are accessed, or a partial traversal, where only a portion of elements are accessed (can be a complete traversal)\n",
    "    - Complete Traversal: All elements in a list are assessed\n",
    "    - Partial Traversal: Only a given portion of elements are assessed\n",
    "    - Iterative Traversal: When loops are used to iterate through a list and to access each single element at a time.\n",
    "- insert( ) allows a value to be inserted into a list at index i\n",
    "- append( ) allows a value to be added at the end of a list\n",
    "- remove( ) allows an element at index i to be deleted from a list\n",
    "- length( ) returns the number of elements currently in a specific list"
   ]
  },
  {
   "cell_type": "markdown",
   "metadata": {},
   "source": [
    "## Hacks 3.8.1\n",
    "1. Define an iteration\n",
    "\n",
    "Part of an algorithm that repeats until a condition is met.\n",
    "\n",
    "2. Make your own example of an iteration with at least 4 steps and a stopping condition (similar to mine that I did)\n",
    "\n",
    "Wrapping Christmas Gifts:\n",
    "\n",
    "i. there are n gifts that need to be wrapped\n",
    "\n",
    "ii. grab gift to wrap\n",
    "\n",
    "iii. grab wrapping paper\n",
    "\n",
    "iv. wrap gift\n",
    "\n",
    "v. repeat steps 2-4 until all gifts are wrapped\n",
    "\n",
    "3. Program a simple iteration"
   ]
  },
  {
   "cell_type": "code",
   "execution_count": 1,
   "metadata": {},
   "outputs": [
    {
     "name": "stdout",
     "output_type": "stream",
     "text": [
      "calc\n",
      "bio\n",
      "engineering\n",
      "csp\n"
     ]
    }
   ],
   "source": [
    "schedule = [\"calc\", \"bio\", \"engineering\", \"csp\"]\n",
    "i = 0\n",
    "for x in schedule:\n",
    "    print(schedule[i])\n",
    "    i+=1"
   ]
  },
  {
   "cell_type": "markdown",
   "metadata": {},
   "source": [
    "## Hacks 3.8.2\n",
    "- What is an iteration statement, in your own words?\n",
    "\n",
    "Changing the order that code is ran by repeatedly looping a section of code until the condition is met\n",
    "\n",
    "- Create a descending list of numbers using a for loop"
   ]
  },
  {
   "cell_type": "code",
   "execution_count": 4,
   "metadata": {},
   "outputs": [
    {
     "name": "stdout",
     "output_type": "stream",
     "text": [
      "10\n",
      "9\n",
      "8\n",
      "7\n",
      "6\n",
      "5\n",
      "4\n",
      "3\n",
      "2\n",
      "1\n"
     ]
    }
   ],
   "source": [
    "for x in range(10, 0, -1):\n",
    "    print(x)"
   ]
  },
  {
   "cell_type": "markdown",
   "metadata": {},
   "source": [
    "- Using while loop, make a list of numbers which will form an output of 3,16,29,42,55,68,81 "
   ]
  },
  {
   "cell_type": "code",
   "execution_count": 11,
   "metadata": {},
   "outputs": [
    {
     "name": "stdout",
     "output_type": "stream",
     "text": [
      "3\n",
      "16\n",
      "29\n",
      "42\n",
      "55\n",
      "68\n",
      "81\n"
     ]
    }
   ],
   "source": [
    "numbers = [3, 16, 29, 42, 55, 68, 81]\n",
    "x = 0\n",
    "while x < len(numbers):\n",
    "    print(numbers[x])\n",
    "    x=x+1"
   ]
  },
  {
   "cell_type": "markdown",
   "metadata": {},
   "source": [
    "## Hacks 3.10\n",
    "- Find the lowest value in a list"
   ]
  },
  {
   "cell_type": "code",
   "execution_count": 12,
   "metadata": {},
   "outputs": [
    {
     "name": "stdout",
     "output_type": "stream",
     "text": [
      "The minimum number in the list is: 10\n"
     ]
    }
   ],
   "source": [
    "nums = [\"10\", \"15\", \"20\", \"25\", \"30\", \"35\"]\n",
    "potentialMin = nums[0]\n",
    "for item in nums:\n",
    "    if item < potentialMin:\n",
    "        potentialMin = item\n",
    "\n",
    "print(\"The minimum number in the list is:\", potentialMin)\n",
    "    \n"
   ]
  },
  {
   "cell_type": "markdown",
   "metadata": {},
   "source": [
    "- Look at the APCSP Reference Sheet and take notes about ones you don't understand (at least 4)\n",
    "    - Assign the value of x to aList[i]\n",
    "\n",
    "    aList[i] <- x\n",
    "    - Any values in aList at indecies >= i are shifted one position to the right. Length of list is increased by 1, value is plaed at index i in aList\n",
    "    \n",
    "    insert(aList, i, value)\n",
    "    - Appends aList in increased by 1, and value placed at end of aList\n",
    "\n",
    "    append(aList, value)\n",
    "    - Remove the item at index i in aList and shifts to the left any values at indices greater that i. The length of aList is decreasing by 1\n",
    "\n",
    "    remove(aList, i)"
   ]
  },
  {
   "cell_type": "markdown",
   "metadata": {},
   "source": [
    "- List's Quiz"
   ]
  },
  {
   "cell_type": "code",
   "execution_count": 16,
   "metadata": {},
   "outputs": [
    {
     "name": "stdout",
     "output_type": "stream",
     "text": [
      "What allows a value to be added at the end of a list?\n",
      "append()\n",
      "Correct!\n",
      "What allows an element at index i to be deleted from a list?\n",
      "remove()\n",
      "Correct!\n",
      "What returns the number of elements currently in a specific list?\n",
      "length()\n",
      "Correct!\n",
      "What allows a value to be inserted into a list at index i?\n",
      "index()\n",
      "Correct!\n",
      "100.00%\n",
      "Your total score is:  4 out of 4. Not too bad, keep on studying! \n"
     ]
    }
   ],
   "source": [
    "import getpass, sys\n",
    "import random\n",
    "\n",
    "def ask_question (question, answer):\n",
    "\n",
    "    print(question)\n",
    "    ans = input(question)\n",
    "    print(ans)\n",
    "   \n",
    "    if ans == answer:\n",
    "        print(\"Correct!\")\n",
    "        return 1\n",
    "\n",
    "    else:\n",
    "        print(\"Wrong\")\n",
    "        return 0\n",
    "\n",
    "question_list = [\"What allows a value to be inserted into a list at index i?\" , \"What allows an element at index i to be deleted from a list?\" , \"What returns the number of elements currently in a specific list?\" , \"What allows a value to be added at the end of a list?\"]\n",
    "answer_list = [\"index()\", \"remove()\", \"length()\" , \"append()\"]\n",
    "\n",
    "# Set points to 0 at the start of the quiz\n",
    "points = 0\n",
    "\n",
    "# If the length of the quiz is greater than 0, then random questions will be chosen from the \"question_list\" set\n",
    "while len(question_list) > 0:\n",
    "    index = random.randint(0, len(question_list) - 1)\n",
    "    \n",
    "# The points system where a point is rewarded for each correct answer    \n",
    "    points = points + ask_question(question_list[index], answer_list[index])\n",
    "    \n",
    "# If a question or answer has already been used, then it shall be deleted    \n",
    "    del question_list[index]\n",
    "    del answer_list[index]\n",
    "\n",
    "# Calculating score using the points system and dividing it by the total number of questions (6)\n",
    "score = (points / 4)\n",
    "\n",
    "# Calculating the percentage of correct answers by multiplying the score by 100\n",
    "percent = (score * 100)\n",
    "\n",
    "# Printing the percentage, and formatting the percentage in a way where two decimals can be shown (through \"{:.2f}\")\n",
    "print(\"{:.2f}\".format(percent) + \"%\")\n",
    "\n",
    "# Adding final remarks based upon the users given scores\n",
    "if points >= 5:\n",
    "         print(\"Your total score is: \", points, \"out of 4. Amazing job!\")\n",
    "\n",
    "elif points == 4:\n",
    "         print(\"Your total score is: \", points, \"out of 4. Not too bad, keep on studying! \" )\n",
    "\n",
    "else:\n",
    "         print(\"Your total score is: \", points, \"out of 4. Its alright, better luck next time!\")"
   ]
  }
 ],
 "metadata": {
  "kernelspec": {
   "display_name": "Python 3.10.6 64-bit",
   "language": "python",
   "name": "python3"
  },
  "language_info": {
   "codemirror_mode": {
    "name": "ipython",
    "version": 3
   },
   "file_extension": ".py",
   "mimetype": "text/x-python",
   "name": "python",
   "nbconvert_exporter": "python",
   "pygments_lexer": "ipython3",
   "version": "3.10.6"
  },
  "orig_nbformat": 4,
  "vscode": {
   "interpreter": {
    "hash": "b0fa6594d8f4cbf19f97940f81e996739fb7646882a419484c72d19e05852a7e"
   }
  }
 },
 "nbformat": 4,
 "nbformat_minor": 2
}
