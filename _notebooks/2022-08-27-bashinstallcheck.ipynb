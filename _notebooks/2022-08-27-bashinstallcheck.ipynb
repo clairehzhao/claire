{
 "cells": [
  {
   "cell_type": "markdown",
   "metadata": {},
   "source": [
    "# Bash Installation Check\n",
    "> Check to ensure installations are correct"
   ]
  },
  {
   "cell_type": "code",
   "execution_count": 19,
   "metadata": {
    "vscode": {
     "languageId": "shellscript"
    }
   },
   "outputs": [
    {
     "name": "stdout",
     "output_type": "stream",
     "text": [
      "Conda version: 4.14.0\n",
      "Python version: 3.9.12\n"
     ]
    }
   ],
   "source": [
    "%%bash\n",
    "#Check version of Conda \n",
    "conda_version=$(conda -V 2>&1 | sed -n ';s/.*conda \\(.*\\)/\\1/p;')\n",
    "#conda_version=$(conda -V 2>&1 | sed -n ';s/.*conda \"\\(.*\\)\\.\\(.*\\)\\..*\".*/\\1\\2/p;')\n",
    "#conda_version='conda -V | sed -n ';s/conda \"\\(.*\\)\\.\\(.*\\)\\..*\".*/\\1\\2/p;'\n",
    "#echo $conda_version\n",
    "#Check version of Python\n",
    " python_version=`python -c 'import sys; version=sys.version_info[:3]; print(\"{0}.{1}.{2}\".format(*version))'`\n",
    "#Print using conditional statement\n",
    " if [ $conda_version > \"0\" ]; then\n",
    "   echo \"Conda version: \"$conda_version\n",
    " else\n",
    "   echo \"Conda not installed\"  \n",
    " fi\n",
    "if [ $python_version > \"0\" ]; then\n",
    "   echo \"Python version: \"$python_version\n",
    " else\n",
    "   echo \"Python not installed\"  \n",
    " fi"
   ]
  }
 ],
 "metadata": {
  "kernelspec": {
   "display_name": "Python 3.10.6 64-bit",
   "language": "python",
   "name": "python3"
  },
  "language_info": {
   "codemirror_mode": {
    "name": "ipython",
    "version": 3
   },
   "file_extension": ".py",
   "mimetype": "text/x-python",
   "name": "python",
   "nbconvert_exporter": "python",
   "pygments_lexer": "ipython3",
   "version": "3.10.6"
  },
  "orig_nbformat": 4,
  "vscode": {
   "interpreter": {
    "hash": "b0fa6594d8f4cbf19f97940f81e996739fb7646882a419484c72d19e05852a7e"
   }
  }
 },
 "nbformat": 4,
 "nbformat_minor": 2
}
