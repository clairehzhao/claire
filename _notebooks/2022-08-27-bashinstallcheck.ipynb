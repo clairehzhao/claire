{
 "cells": [
  {
   "cell_type": "markdown",
   "metadata": {},
   "source": [
    "# Bash Installation Check\n",
    "> Check to ensure installations are correct"
   ]
  },
  {
   "cell_type": "code",
   "execution_count": 8,
   "metadata": {
    "vscode": {
     "languageId": "shellscript"
    }
   },
   "outputs": [
    {
     "name": "stdout",
     "output_type": "stream",
     "text": [
      "Using conditional statement to create a project directory and project\n",
      "Directory /Users/clairezhao/vscode exists.\n",
      "Directory /Users/clairezhao/vscode/APCSP exists.\n"
     ]
    }
   ],
   "source": [
    "%%bash\n",
    "echo \"Using conditional statement to create a project directory and project\"\n",
    "\n",
    "\n",
    "export project_dir=$HOME/vscode\n",
    "export project=$project_dir/APCSP\n",
    "export project_repo=\"https://github.com/nighthawkcoders/APCSP.git\"\n",
    "\n",
    "cd ~\n",
    "\n",
    "if [ ! -d $project_dir ]\n",
    "then\n",
    "        echo \"Directory $project_dir does not exists... making directory $project_dir\"\n",
    "        mkdir -p $project_dir\n",
    "fi\n",
    "echo \"Directory $project_dir exists.\"\n",
    "\n",
    "if [ ! -d $project ]\n",
    "then\n",
    "        echo \"Directory $project does not exists... cloning $project_repo\"\n",
    "        cd $project_dir\n",
    "        git clone $project_repo\n",
    "        cd ~\n",
    "fi\n",
    "echo \"Directory $project exists.\""
   ]
  }
 ],
 "metadata": {
  "kernelspec": {
   "display_name": "Python 3.10.6 64-bit",
   "language": "python",
   "name": "python3"
  },
  "language_info": {
   "codemirror_mode": {
    "name": "ipython",
    "version": 3
   },
   "file_extension": ".py",
   "mimetype": "text/x-python",
   "name": "python",
   "nbconvert_exporter": "python",
   "pygments_lexer": "ipython3",
   "version": "3.10.6"
  },
  "orig_nbformat": 4,
  "vscode": {
   "interpreter": {
    "hash": "b0fa6594d8f4cbf19f97940f81e996739fb7646882a419484c72d19e05852a7e"
   }
  }
 },
 "nbformat": 4,
 "nbformat_minor": 2
}
