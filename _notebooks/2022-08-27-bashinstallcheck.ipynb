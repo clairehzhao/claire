{
 "cells": [
  {
   "cell_type": "code",
   "execution_count": null,
   "metadata": {
    "vscode": {
     "languageId": "shellscript"
    }
   },
   "outputs": [],
   "source": [
    "echo \"Using conditional statement to create a project directory and project\"\n",
    "\n",
    "\n",
    "export project_dir=$HOME/vscode\n",
    "export project=$project_dir/APCSP\n",
    "export project_repo=\"https://github.com/nighthawkcoders/APCSP.git\"\n",
    "\n",
    "cd ~\n",
    "\n",
    "if [ ! -d $project_dir ]\n",
    "then\n",
    "        echo \"Directory $project_dir does not exists... making directory $project_dir\"\n",
    "        mkdir -p $project_dir\n",
    "fi\n",
    "echo \"Directory $project_dir exists.\"\n",
    "\n",
    "if [ ! -d $project ]\n",
    "then\n",
    "        echo \"Directory $project does not exists... cloning $project_repo\"\n",
    "        cd $project_dir\n",
    "        git clone $project_repo\n",
    "        cd ~"
   ]
  }
 ],
 "metadata": {
  "language_info": {
   "name": "python"
  },
  "orig_nbformat": 4
 },
 "nbformat": 4,
 "nbformat_minor": 2
}
