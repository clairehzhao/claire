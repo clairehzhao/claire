{
 "cells": [
  {
   "attachments": {},
   "cell_type": "markdown",
   "metadata": {},
   "source": [
    "# Unit 3 Lesson 14 - 15 Hacks and Notes\n",
    "> Libraries and Random Values\n",
    "- toc: true\n",
    "- categories: [student teaching, week16, jupyter, python, markdown]"
   ]
  },
  {
   "cell_type": "markdown",
   "metadata": {},
   "source": [
    "## Notes:\n",
    "- A library is a collection of code from an external source that can be used to add functionality to a program.\n",
    "-  Randomization generates a value between two numbers. For example RANDOM(1,3) may result as 1 or 2 or 3, either one of those.\n",
    "- Method | Description\n",
    "\n",
    "    seed() | Initialize the random number generator\n",
    "\n",
    "    getstate() | Returns the current internal state of the random number generator\n",
    "\n",
    "    setstate() | Restores the internal state of the random number generator\n",
    "\n",
    "    getrandbits() | Returns a number representing the random bits\n",
    "\n",
    "    randrange() | Returns a random number between the given range\n",
    "\n",
    "    randint() | Returns a random number between the given range\n",
    "\n",
    "    choice() | Returns a random element from the given sequence\n",
    "\n",
    "    choices() | Returns a list with a random selection from the given sequence\n",
    "\n",
    "    shuffle() | Takes a sequence and returns the sequence in a random order\n",
    "\n",
    "    sample() | Returns a given sample of a sequence\n",
    "\n",
    "    random() | Returns a random float number between 0 and 1\n",
    "\n",
    "    uniform() | Returns a random float number between two given parameters\n",
    "\n",
    "    betavariate() | Returns a random float number between 0 and 1 based on the Beta distribution (used in statistics)\n",
    "\n",
    "    expovariate() | Returns a random float number based on the Exponential distribution (used in statistics)\n",
    "\n",
    "    gammavariate() | Returns a random float number based on the Gamma distribution (used in statistics)\n",
    "\n",
    "    gauss() | Returns a random float number based on the Gaussian distribution (used in probability theories)\n",
    "\n",
    "    lognormvariate() | Returns a random float number based on a log-normal distribution (used in probability theories)\n",
    "\n",
    "    normalvariate() | Returns a random float number based on the normal distribution (used in probability theories)\n",
    "\n",
    "    vonmisesvariate() | Returns a random float number based on the von Mises distribution (used in directional statistics)\n",
    "\n",
    "    paretovariate() | Returns a random float number based on the Pareto distribution (used in probability theories)\n",
    "\n",
    "    weibullvariate() | Returns a random float number based on the Weibull distribution (used in statistics)"
   ]
  },
  {
   "cell_type": "markdown",
   "metadata": {},
   "source": [
    "## Hacks:\n",
    "### Lesson 3.14.1 "
   ]
  },
  {
   "cell_type": "code",
   "execution_count": 3,
   "metadata": {},
   "outputs": [
    {
     "name": "stdout",
     "output_type": "stream",
     "text": [
      "The greatest common divisor is: 20\n"
     ]
    }
   ],
   "source": [
    "import math\n",
    "\n",
    "number = input(\"Insert the number that you want to find the greatest common divisor of\")\n",
    "def gcdfunction(number):\n",
    "    result = math.gcd(int(number))\n",
    "    return result\n",
    "\n",
    "print(\"The greatest common divisor is: \" + str(gcdfunction(number)))"
   ]
  },
  {
   "cell_type": "markdown",
   "metadata": {},
   "source": [
    "First the library math is used and imported to ensure that the math functions are able to be used. Then the variable number is set where a person inputs the number that they wish to take the greatest common divisor of. A function is then defined with a result variable that is set equal to the greatest common divisor of the integer that the user input. The result is then returned and printed in the sentence stating what the greatest common divisor."
   ]
  },
  {
   "attachments": {},
   "cell_type": "markdown",
   "metadata": {},
   "source": [
    "### Lesson 3.15.1\n",
    "1. Define what an import random function does\n",
    "\n",
    "    An import random function generatees a random number that can be used in the function\n",
    "\n",
    "2. List a few other things that we can import other than random\n",
    "\n",
    "    - math\n",
    "    - flask\n",
    "    - Numpy\n",
    "    - TensorFlow\n",
    "    - SciPy\n",
    "    - own files"
   ]
  },
  {
   "cell_type": "markdown",
   "metadata": {},
   "source": [
    "### Lesson 3.15.2\n",
    "- There is a spinner divided into eight equal parts. 3 parts of the spinner are green, two parts are blue, one part is purple, one part is red, and one part is orange. How can you simulate this situation using a random number generator."
   ]
  },
  {
   "cell_type": "code",
   "execution_count": 9,
   "metadata": {},
   "outputs": [
    {
     "name": "stdout",
     "output_type": "stream",
     "text": [
      "The color you landed on is:  green\n"
     ]
    }
   ],
   "source": [
    "import random\n",
    "\n",
    "spinner_lands = random.randint(1, 8)\n",
    "if spinner_lands <= 3:\n",
    "    color = \"green\"\n",
    "elif spinner_lands <= 5:\n",
    "    color = \"blue\"\n",
    "elif spinner_lands <= 6:\n",
    "    color = \"purple\"\n",
    "elif spinner_lands <= 7:\n",
    "    color = \"red\"\n",
    "elif spinner_lands <= 8:\n",
    "    color = \"orange\"\n",
    "\n",
    "print(\"The color you landed on is: \", color)"
   ]
  },
  {
   "attachments": {},
   "cell_type": "markdown",
   "metadata": {},
   "source": [
    "- What numbers can be outputted from RANDOM(12,20) and what numbers are excluded?\n",
    "\n",
    "The numbers that can be outputted are any number from 12 to 20 including 12 and 20."
   ]
  }
 ],
 "metadata": {
  "kernelspec": {
   "display_name": "Python 3.10.6 64-bit",
   "language": "python",
   "name": "python3"
  },
  "language_info": {
   "codemirror_mode": {
    "name": "ipython",
    "version": 3
   },
   "file_extension": ".py",
   "mimetype": "text/x-python",
   "name": "python",
   "nbconvert_exporter": "python",
   "pygments_lexer": "ipython3",
   "version": "3.10.6 (main, Aug 11 2022, 13:36:31) [Clang 13.1.6 (clang-1316.0.21.2.5)]"
  },
  "orig_nbformat": 4,
  "vscode": {
   "interpreter": {
    "hash": "b0fa6594d8f4cbf19f97940f81e996739fb7646882a419484c72d19e05852a7e"
   }
  }
 },
 "nbformat": 4,
 "nbformat_minor": 2
}
