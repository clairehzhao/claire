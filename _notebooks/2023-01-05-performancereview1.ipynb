{
 "cells": [
  {
   "attachments": {},
   "cell_type": "markdown",
   "metadata": {},
   "source": [
    "# Performance Task Scoring 1\n",
    "> College Board Performance Task Scoring\n",
    "- toc: true\n",
    "- categories: [week17]"
   ]
  },
  {
   "cell_type": "markdown",
   "metadata": {
    "vscode": {
     "languageId": "html"
    }
   },
   "source": [
    "| Student | Category | My Score | CB Score | Comments |\n",
    "|---------|----------|-----------|-----------|-----------|\n",
    "| # 1 | Programming Purpose and Function: <ul><li>- [x] input</li><li>- [x] program functionality</li><li>- [x] output</li><li>- [x] describes the overall purpose of the program. </li><li>- [x] describes what functionality of the program is demonstrated in the video. </li><li>- [x] describes the input and output of the program demonstrated in the video.| 1 | 0 | I did not realize that the student did not explain what the purpose of their project was. Although they wrote that it was the purpose it does not explain why they made this project. While they did explain what the function was by saying it provides information about a triangle, the purpose is not state. \n",
    "|| Data Abstraction: <ul><li>- [x] includes two program code segments: one that shows how data has been stored in this list (or other collection type) and one that shows the data in this same list being used as part of fulfilling the program’s purpose.</li><li>- [x] identifies the name of the variable representing the list being used in this response. </li><li>- [x] describes what the data contained in this list is representing in the program | 1 | 1 | The student explains how the list is being used and has a list with multiple elements in it.\n",
    "|| Managing Complexity:  <ul><li>- [ ] includes a program code segment that shows a list being used to manage complexity in the program.</li><li>- [ ] explains how the named, selected list manages complexity in the program code by explaining why the program code could not be written, or how it would be written differently, without using this list. </li>| 0 | 0 | None of the criteria was met for this section. The student did not explain the code accurately and the list is not necessary for the program.\n",
    "|| Procedural Abstraction: <ul><li>- [x] includes two program code segments: one showing a student-developed procedure with at least one parameter that has an effect on the functionality of the procedure and one showing where the student-developed procedure is being called.</li><li>- [x] describes what the identified procedure does and how it contributes to the overall functionality of the program. | 1 | 1 | The procedure contains 3 parameters and has a purpose. The purpose is to calculate the ratio of side lengths for the triangles and then using those lengths to store a value.\n",
    "|| Algorithm Implementation: <ul><li>- [x] includes a program code segment of a student-developed algorithm that includes</li><li>- [x] sequencing </li><li>- [x] selection</li><li>- [x] iteration</li><li>- [x] explains in detailed steps how the identified algorithm works in enough detail that someone else could recreate it. | 1 | 1 | The student explains each part of their algorithm and also used sequencing, selection, and iteration.\n",
    "|| Testing: <ul><li>- [x] describes two calls to the selected procedure identified in written response 3c. Each call must pass a different argument(s) that causes a different segment of code in the algorithm to execute.</li><li>- [x] describes the condition(s) being tested by each call to the procedure. </li><li>- [x] identifies the result of each call.</li> | 1 | 1 | There are multiple inputs and outputs to show testing.\n",
    "\n",
    "| Student | Category | My Score | CB Score | Comments |\n",
    "|---------|----------|-----------|-----------|-----------|\n",
    "| # 2 | Programming Purpose and Function: <ul><li>- [x] input</li><li>- [x] program functionality</li><li>- [x] output</li><li>- [x] describes the overall purpose of the program. </li><li>- [x] describes what functionality of the program is demonstrated in the video. </li><li>- [x] describes the input and output of the program demonstrated in the video.| 1 | 1 | The student explains the purpose, entertainment, and how it functions. They also explain how user input changes the output. \n",
    "|| Data Abstraction: <ul><li>- [x] includes two program code segments: one that shows how data has been stored in this list (or other collection type) and one that shows the data in this same list being used as part of fulfilling the program’s purpose.</li><li>- [x] identifies the name of the variable representing the list being used in this response. </li><li>- [x] describes what the data contained in this list is representing in the program | 1 | 1 | The student shows the list that being used and explains what is being stored inside of the lists.\n",
    "|| Managing Complexity:  <ul><li>- [x] includes a program code segment that shows a list being used to manage complexity in the program.</li><li>- [x] explains how the named, selected list manages complexity in the program code by explaining why the program code could not be written, or how it would be written differently, without using this list. </li>| 1 | 1 | The list access and stores a lot of different values and explains how the list is needed in their program.\n",
    "|| Procedural Abstraction: <ul><li>- [x] includes two program code segments: one showing a student-developed procedure with at least one parameter that has an effect on the functionality of the procedure and one showing where the student-developed procedure is being called.</li><li>- [x] describes what the identified procedure does and how it contributes to the overall functionality of the program. | 1 | 1 | There are two parameters in the program and they explain how they are used in the program.\n",
    "|| Algorithm Implementation: <ul><li>- [x] includes a program code segment of a student-developed algorithm that includes</li><li>- [x] sequencing </li><li>- [x] selection</li><li>- [x] iteration</li><li>- [x] explains in detailed steps how the identified algorithm works in enough detail that someone else could recreate it. | 1 | 1 | The student explains each part of their algorithm and how it can be recreated. They also used sequencing, loops, and iteration.\n",
    "|| Testing: <ul><li>- [x] describes two calls to the selected procedure identified in written response 3c. Each call must pass a different argument(s) that causes a different segment of code in the algorithm to execute.</li><li>- [x] describes the condition(s) being tested by each call to the procedure. </li><li>- [x] identifies the result of each call.</li> | 1 | 1 | They have different inputs and outputs while explaining the outputs to show testing.\n"
   ]
  }
 ],
 "metadata": {
  "kernelspec": {
   "display_name": "Python 3",
   "language": "python",
   "name": "python3"
  },
  "language_info": {
   "name": "python",
   "version": "3.10.6 (main, Aug 11 2022, 13:36:31) [Clang 13.1.6 (clang-1316.0.21.2.5)]"
  },
  "orig_nbformat": 4,
  "vscode": {
   "interpreter": {
    "hash": "b0fa6594d8f4cbf19f97940f81e996739fb7646882a419484c72d19e05852a7e"
   }
  }
 },
 "nbformat": 4,
 "nbformat_minor": 2
}
