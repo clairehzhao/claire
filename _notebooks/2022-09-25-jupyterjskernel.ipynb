{
 "cells": [
  {
   "cell_type": "markdown",
   "metadata": {},
   "source": [
    "# Jupyter JavaScript Kernel\n",
    "> Jupyter Notebook that shows personal usage of Jupyter JavaScript Kernel\n",
    "- categories: [markdown, week5, jupyter, javascript]\n",
    "- toc: true"
   ]
  },
  {
   "cell_type": "markdown",
   "metadata": {},
   "source": [
    "# console.log output\n",
    "The console.log command outputs the parameter to the console, so you can see it in this Jupyter document."
   ]
  },
  {
   "cell_type": "code",
   "execution_count": 14,
   "metadata": {},
   "outputs": [
    {
     "name": "stdout",
     "output_type": "stream",
     "text": [
      "Hey Guys!\n"
     ]
    }
   ],
   "source": [
    "console.log(\"Hey Guys!\");"
   ]
  },
  {
   "cell_type": "markdown",
   "metadata": {},
   "source": [
    "# console.log output showing use of variable\n",
    "This second example is a sequence of code, two or more lines forms a sequence. This example defines a variable, then outputs the msg to terminal."
   ]
  },
  {
   "cell_type": "code",
   "execution_count": 15,
   "metadata": {},
   "outputs": [
    {
     "name": "stdout",
     "output_type": "stream",
     "text": [
      "Hey Guys!\n"
     ]
    }
   ],
   "source": [
    "var msg = \"Hey Guys!\";\n",
    "console.log(msg)"
   ]
  },
  {
   "cell_type": "markdown",
   "metadata": {},
   "source": [
    "# console.log output showing use of function\n",
    "This example passes the previously defined variable \"msg\" to the newly defined \"function logIt(output)\"."
   ]
  },
  {
   "cell_type": "code",
   "execution_count": 17,
   "metadata": {},
   "outputs": [
    {
     "name": "stdout",
     "output_type": "stream",
     "text": [
      "Hey Guys!\n"
     ]
    }
   ],
   "source": [
    "function logIt(output) {\n",
    "    console.log(output);\n",
    "}\n",
    "logIt(msg);"
   ]
  },
  {
   "cell_type": "markdown",
   "metadata": {},
   "source": [
    "# Showing reuse of a function\n",
    "Now that a function is defined, it can be called from any of the subsequent cell in the Jupyter notebook. A function/method, is a process of creating a procedural abstraction. This a programming practice to promote reuse versus coding the same thing over and over.\n",
    "\n",
    "- First call sends a different string message\n",
    "- Second call sends a number\n"
   ]
  },
  {
   "cell_type": "code",
   "execution_count": 18,
   "metadata": {},
   "outputs": [
    {
     "name": "stdout",
     "output_type": "stream",
     "text": [
      "Hey Y'all\n",
      "How are you doing?\n",
      "2022\n"
     ]
    }
   ],
   "source": [
    "console.log(\"Hey Y'all\")\n",
    "logIt(\"How are you doing?\");\n",
    "logIt(2022)"
   ]
  },
  {
   "cell_type": "markdown",
   "metadata": {},
   "source": [
    "# Dynamic or Loosely typed language (string, number)\n",
    "JavaScript is a loosely typed language, don't have to specify what type of information will be stored in a variable in advance. This is similar to Python and most interpretive languages. Java which is a compiled language is strongly typed, thus you will see string, integer, double, and object in the source code. In JavaScript, the \"typeof\" keyword returns the type."
   ]
  },
  {
   "cell_type": "code",
   "execution_count": 19,
   "metadata": {},
   "outputs": [
    {
     "name": "stdout",
     "output_type": "stream",
     "text": [
      "Different types of outputs\n",
      "string ; hey guys\n",
      "number ; 2022\n",
      "object ; [ 1, 2, 3 ]\n"
     ]
    }
   ],
   "source": [
    "function logItType(output) {\n",
    "    console.log(typeof output, \";\", output);\n",
    "}\n",
    "console.log(\"Different types of outputs\")\n",
    "logItType(\"hey guys\"); // String\n",
    "logItType(2022);    // Number\n",
    "logItType([1, 2, 3]);  // Object is generic for this Array, which similar to Python List"
   ]
  },
  {
   "cell_type": "markdown",
   "metadata": {},
   "source": [
    "# Build a Person Function/Group object and JSON\n",
    "JavaScript functions have special properties and syntax is shown in many ways. In fact, a Class in JavaScript is a special function. Jupyter Notebooks seems to be more friendly to \"function\" definitions versus \"Class\", thus this lesson uses \"function\" and \"prototype\" versus \"Class\".\n",
    "\n",
    "- Definition of function allows for a collection of data\n",
    "- Definition of a prototype allow for the definition of a method associated with the function\n",
    "- Instance of a function"
   ]
  },
  {
   "cell_type": "code",
   "execution_count": 28,
   "metadata": {},
   "outputs": [
    {
     "name": "stdout",
     "output_type": "stream",
     "text": [
      "object ; Person { name: 'Abby', favcolor: 'pink', age: 17, role: '' }\n",
      "string ; {\"name\":\"Abby\",\"favcolor\":\"pink\",\"age\":17,\"role\":\"\"}\n",
      "object ; Person { name: 'Abby', favcolor: 'pink', age: 17, role: 'upperclassmen' }\n",
      "string ; {\"name\":\"Abby\",\"favcolor\":\"pink\",\"age\":17,\"role\":\"upperclassmen\"}\n"
     ]
    }
   ],
   "source": [
    "// define a function to hold data for a Person\n",
    "function Person(name, favcolor, age) {\n",
    "    this.name = name;\n",
    "    this.favcolor = favcolor;\n",
    "    this.age = age;\n",
    "    this.role = \"\";\n",
    "}\n",
    "\n",
    "// define a setter for role in Person data\n",
    "Person.prototype.setRole = function(role) {\n",
    "    this.role = role;\n",
    "}\n",
    "\n",
    "// define a JSON conversion \"method\" associated with Person\n",
    "Person.prototype.toJSON = function() {\n",
    "    const obj = {name: this.name, favcolor: this.favcolor, age: this.age, role: this.role};\n",
    "    const json = JSON.stringify(obj);\n",
    "    return json;\n",
    "}\n",
    "\n",
    "// make a new Person and assign to variable upperclassmen\n",
    "var upperclassmen = new Person(\"Abby\", \"pink\", 17);  // object type is easy to work with in JavaScript\n",
    "logItType(upperclassmen);  // before role\n",
    "logItType(upperclassmen.toJSON());  // ok to do this even though role is not yet defined\n",
    "\n",
    "// output of Object and JSON/string associated with Teacher\n",
    "upperclassmen.setRole(\"upperclassmen\");   // set the role\n",
    "logItType(upperclassmen); \n",
    "logItType(upperclassmen.toJSON());"
   ]
  },
  {
   "cell_type": "markdown",
   "metadata": {},
   "source": [
    "# Create new people in group"
   ]
  },
  {
   "cell_type": "code",
   "execution_count": 29,
   "metadata": {},
   "outputs": [
    {
     "name": "stdout",
     "output_type": "stream",
     "text": [
      "object ; [ Person { name: 'Abby', favcolor: 'pink', age: 17, role: 'upperclassmen' },\n",
      "  Person {\n",
      "    name: 'Olivia',\n",
      "    favcolor: 'purple',\n",
      "    age: 14,\n",
      "    role: 'underclassmen' },\n",
      "  Person {\n",
      "    name: 'Allie',\n",
      "    favcolor: 'green',\n",
      "    age: 15,\n",
      "    role: 'underclassmen' },\n",
      "  Person {\n",
      "    name: 'Claire',\n",
      "    favcolor: 'pink',\n",
      "    age: 15,\n",
      "    role: 'underclassmen' } ]\n",
      "string ; Abby\n",
      "string ; {\"name\":\"Abby\",\"favcolor\":\"pink\",\"age\":17,\"role\":\"upperclassmen\"}\n",
      "object ; { name: 'Abby', favcolor: 'pink', age: 17, role: 'upperclassmen' }\n"
     ]
    }
   ],
   "source": [
    "// define a student Array of Person(s)\n",
    "var underclassmen = [ \n",
    "    new Person(\"Olivia\", \"purple\", 14),\n",
    "    new Person(\"Allie\", \"green\", 15),\n",
    "    new Person(\"Claire\", \"pink\", 15)\n",
    "];\n",
    "\n",
    "// define a group and build Group objects and json\n",
    "function Group(upperclassmen, underclassmen){\n",
    "    // start group with upperclassmen\n",
    "    upperclassmen.setRole(\"upperclassmen\");\n",
    "    this.upperclassmen = upperclassmen;\n",
    "    this.group = [upperclassmen];\n",
    "    // add each person to group\n",
    "    this.underclassmen = underclassmen;\n",
    "    this.underclassmen.forEach(underclassmen => { underclassmen.setRole(\"underclassmen\"); this.group.push(underclassmen); });\n",
    "    // build json/string format of group\n",
    "    this.json = [];\n",
    "    this.group.forEach(person => this.json.push(person.toJSON()));\n",
    "}\n",
    "\n",
    "// make a del norte group from formerly defined uper and under classmen\n",
    "delnorte = new Group(upperclassmen, underclassmen);\n",
    "\n",
    "// output of Objects and JSON in del norte group\n",
    "logItType(delnorte.group);  // constructed classroom object\n",
    "logItType(delnorte.group[0].name);  // abstract 1st objects name\n",
    "logItType(delnorte.json[0]);  // show json conversion of 1st object to string\n",
    "logItType(JSON.parse(delnorte.json[0]));  // show JSON.parse inverse of JSON.stringify"
   ]
  },
  {
   "cell_type": "markdown",
   "metadata": {},
   "source": [
    "# IJavaScript and Table formatting using toHTML method\n",
    "Create table"
   ]
  },
  {
   "cell_type": "code",
   "execution_count": 30,
   "metadata": {},
   "outputs": [
    {
     "data": {
      "text/html": [
       "<div style='display:inline-block;border: 2px solid grey;box-shadow: 0.8em 0.4em 0.4em grey;'><table><tr><th><mark>Name</mark></th><th><mark>Favorite Color</mark></th><th><mark>Age</mark></th><th><mark>Role</mark></th></tr><tr><td>Abby</td><td>pink</td><td>17</td><td>upperclassmen</td><tr><tr><td>Olivia</td><td>purple</td><td>14</td><td>underclassmen</td><tr><tr><td>Allie</td><td>green</td><td>15</td><td>underclassmen</td><tr><tr><td>Claire</td><td>pink</td><td>15</td><td>underclassmen</td><tr></table></div>"
      ]
     },
     "execution_count": 30,
     "metadata": {},
     "output_type": "execute_result"
    }
   ],
   "source": [
    "// define an HTML conversion \"method\" associated with Group\n",
    "Group.prototype._toHtml = function() {\n",
    "    // HTML Style is build using inline structure\n",
    "    var style = (\n",
    "      \"display:inline-block;\" +\n",
    "      \"border: 2px solid grey;\" +\n",
    "      \"box-shadow: 0.8em 0.4em 0.4em grey;\"\n",
    "    );\n",
    "  \n",
    "    // HTML Body of Table is build as a series of concatenations (+=)\n",
    "    var body = \"\";\n",
    "    // Heading for Array Columns\n",
    "    body += \"<tr>\";\n",
    "    body += \"<th><mark>\" + \"Name\" + \"</mark></th>\";\n",
    "    body += \"<th><mark>\" + \"Favorite Color\" + \"</mark></th>\";\n",
    "    body += \"<th><mark>\" + \"Age\" + \"</mark></th>\";\n",
    "    body += \"<th><mark>\" + \"Role\" + \"</mark></th>\";\n",
    "    body += \"</tr>\";\n",
    "    // Data of Array, iterate through each row of delnorte.group \n",
    "    for (var row of delnorte.group) {\n",
    "      // tr for each row, a new line\n",
    "      body += \"<tr>\";\n",
    "      // td for each column of data\n",
    "      body += \"<td>\" + row.name + \"</td>\";\n",
    "      body += \"<td>\" + row.favcolor + \"</td>\";\n",
    "      body += \"<td>\" + row.age + \"</td>\";\n",
    "      body += \"<td>\" + row.role + \"</td>\";\n",
    "      // tr to end line\n",
    "      body += \"<tr>\";\n",
    "    }\n",
    "  \n",
    "     // Build and HTML fragment of div, table, table body\n",
    "    return (\n",
    "      \"<div style='\" + style + \"'>\" +\n",
    "        \"<table>\" +\n",
    "          body +\n",
    "        \"</table>\" +\n",
    "      \"</div>\"\n",
    "    );\n",
    "  \n",
    "  };\n",
    "  \n",
    "  // IJavaScript HTML processor receive parameter of defined HTML fragment\n",
    "  $$.html(delnorte._toHtml());"
   ]
  }
 ],
 "metadata": {
  "kernelspec": {
   "display_name": "JavaScript (Node.js)",
   "language": "javascript",
   "name": "javascript"
  },
  "language_info": {
   "file_extension": ".js",
   "mimetype": "application/javascript",
   "name": "javascript",
   "version": "10.13.0"
  },
  "orig_nbformat": 4,
  "vscode": {
   "interpreter": {
    "hash": "b0fa6594d8f4cbf19f97940f81e996739fb7646882a419484c72d19e05852a7e"
   }
  }
 },
 "nbformat": 4,
 "nbformat_minor": 2
}
