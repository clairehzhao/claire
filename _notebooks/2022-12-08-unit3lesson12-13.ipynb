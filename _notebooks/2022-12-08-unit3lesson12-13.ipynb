{
 "cells": [
  {
   "cell_type": "markdown",
   "metadata": {},
   "source": [
    "# Unit 3 Lesson 12 - 13 Hacks and Notes\n",
    "> Hacks to show understanding\n",
    "- toc: true\n",
    "- categories: [student teaching, week15, jupyter, python, markdown]"
   ]
  },
  {
   "cell_type": "markdown",
   "metadata": {},
   "source": [
    "## Notes:\n",
    "- A procedure is a named set of instructions that can take in parameters and return values.\n",
    "    - May be called \"method\" or \"function\" in different programming languages.\n",
    "- Parameters are independent variables used in the procedure to produce a result. It allows a procedure to execute without initially knowing specific input values.\n",
    "- To call a procedure you would write the name of the procedure followed by the parentheses with the parameters of the procedure\n",
    "- Procedures do not require parameters, but the parentheses must be there\n",
    "- To use return values, you have to write the syntax return followed by the expression you would like to return var\n",
    "- Modularity - the practice of breaking a complex program into smaller, independent parts or modules that can be used and reused in different parts of the program\n",
    "- Abstraction - the practice of hiding the details of how a particular code or system works and exposing only the essential features or functions that are necessary for other parts of the program to use\n",
    "- Duplication - having multiple duplicate code blocks, often decreasing readability and efficiency\n",
    "- Logic - the sequence of steps and operations that a computer follows to execute a program, including the specific instructions and decision-making processes built into the code\n",
    "- Arguments - a way to provide information to a function, usually defined outside a function and then imported into a function with parameters"
   ]
  },
  {
   "cell_type": "markdown",
   "metadata": {},
   "source": [
    "## Hacks:\n",
    "### Lesson 3.12\n",
    "- Define procedure and parameter in your own words\n",
    "\n",
    "procedure: code that is used as instructions that takes inputs and returns outputs\n",
    "\n",
    "parameter: variable that allows for inputs to be put into the variables\n",
    "\n",
    "- Quiz:\n"
   ]
  },
  {
   "cell_type": "code",
   "execution_count": 1,
   "metadata": {},
   "outputs": [
    {
     "name": "stdout",
     "output_type": "stream",
     "text": [
      "Question: What is are correct names for a procedure? \n",
      " A) Method \n",
      " B) Function \n",
      " C) Both\n",
      "Answer: C\n",
      "Correct :) \n",
      "\n",
      "Question: What is a procedure? \n",
      " A) Sequencing \n",
      " B) Selection \n",
      " C) Iteration \n",
      " D) All\n",
      "Answer: D\n",
      "Correct :) \n",
      "\n",
      "Question: Use this for following question: \n",
      " def inchesToFeet(lengthInches): \n",
      "\t lengthFeet = lengthInches / 12 \n",
      "\t return lengthFeet \n",
      "\n",
      " What is the procedure name, the parameter, and what the procedure returns? \n",
      " A) feetToInches, lengthInches, lengthMeters \n",
      " B) inchesToFeet, lengthInches, lengthFeet \n",
      " C) inchesToFeet, lengthFeet, lengthInches \n",
      " D) lengthInches, inchesToFeet, lengthFeet\n",
      "Answer: B\n",
      "Correct :) \n",
      "\n",
      "Score: 3 / 3\n"
     ]
    }
   ],
   "source": [
    "questionNum = 3\n",
    "correct = 0\n",
    "questions = [\n",
    "    \"What is are correct names for a procedure? \\n A) Method \\n B) Function \\n C) Both\",\n",
    "    \"What is a procedure? \\n A) Sequencing \\n B) Selection \\n C) Iteration \\n D) All\",\n",
    "    \"Use this for following question: \\n def inchesToFeet(lengthInches): \\n\\t lengthFeet = lengthInches / 12 \\n\\t return lengthFeet \\n\\n What is the procedure name, the parameter, and what the procedure returns? \\n A) feetToInches, lengthInches, lengthMeters \\n B) inchesToFeet, lengthInches, lengthFeet \\n C) inchesToFeet, lengthFeet, lengthInches \\n D) lengthInches, inchesToFeet, lengthFeet\"]\n",
    "answers = [\"c\", \"d\", \"b\"]\n",
    "\n",
    "def qna(question, answer):\n",
    "    print(\"Question:\", question)\n",
    "    response = input()\n",
    "    print(\"Answer:\", response)\n",
    "    \n",
    "    if response.lower() == answer:\n",
    "        print(\"Correct :) \\n\")\n",
    "        global correct\n",
    "        correct += 1\n",
    "    else:\n",
    "        print(\"Incorrect :( \\n\")\n",
    "for x in range(questionNum):\n",
    "    qna(questions[x], answers[x])\n",
    "    \n",
    "print(\"Score:\", correct, \"/ 3\")"
   ]
  },
  {
   "cell_type": "markdown",
   "metadata": {},
   "source": [
    "- Define return values and output parameters in your own words\n",
    "\n",
    "return values: the output of a function\n",
    "\n",
    "parameter: input value to the function\n",
    "\n",
    "- Code a procedure that finds the square root of any given number. (make sure to call and return the function)\n"
   ]
  },
  {
   "cell_type": "code",
   "execution_count": 7,
   "metadata": {},
   "outputs": [
    {
     "name": "stdout",
     "output_type": "stream",
     "text": [
      "The square root is: 4.0\n"
     ]
    }
   ],
   "source": [
    "import math\n",
    "\n",
    "number = input(\"Insert the number that you want to take the square root of\")\n",
    "def sqrtfunction(number):\n",
    "    result = math.sqrt(int(number))\n",
    "    return result\n",
    "\n",
    "print(\"The square root is: \" + str(sqrtfunction(number)))"
   ]
  },
  {
   "cell_type": "markdown",
   "metadata": {},
   "source": [
    "### Lesson 3.13 (3.B)\n",
    "- Explain, in your own words, why abstracting away your program logic into separate, modular functions is effective\n",
    "\n",
    "    Abstracting away your program logic into separate, modular functions is effective because it makes it easier to manage code and shortens your code so that there are less duplicates in the code.\n",
    "\n",
    "- Create a procedure that uses other sub-procedures (other functions) within it and explain why the abstraction was needed (conciseness, shared behavior, etc.)"
   ]
  },
  {
   "cell_type": "code",
   "execution_count": 25,
   "metadata": {},
   "outputs": [
    {
     "name": "stdout",
     "output_type": "stream",
     "text": [
      "===============================\n",
      "mid_index is  4\n",
      "len of nums is  9\n",
      "[3, 5, 11, 12, 23, 24, 34, 56, 98]\n",
      "12\n",
      "===============================\n",
      "mid_index is  2\n",
      "len of nums is  4\n",
      "[3, 5, 11, 12]\n",
      "12\n",
      "===============================\n",
      "mid_index is  1\n",
      "len of nums is  2\n",
      "[11, 12]\n",
      "12\n",
      "Found match value!\n",
      "None\n"
     ]
    }
   ],
   "source": [
    "def binary_search(nums, target):\n",
    "    def sort_list (input_list):\n",
    "        input_list.sort()\n",
    "        return input_list\n",
    "\n",
    "    sort_nums = sort_list(nums)\n",
    "\n",
    "    mid_val = len(sort_nums) // 2\n",
    "\n",
    "    print(\"===============================\")\n",
    "    print(\"mid_index is \", mid_val)\n",
    "    print(\"len of nums is \", len(sort_nums))\n",
    "    print(sort_nums)\n",
    "    print(target)\n",
    "\n",
    "    if target == sort_nums[mid_val]:\n",
    "        print(\"Found match value!\")\n",
    "        return sort_nums[mid_val]\n",
    "\n",
    "    elif len(sort_nums) == 1:\n",
    "        print(\"Found closest value!\")\n",
    "        return sort_nums\n",
    "\n",
    "    elif target < sort_nums[mid_val]:\n",
    "        binary_search(sort_nums[:mid_val],target)\n",
    "    else:\n",
    "        binary_search(sort_nums[mid_val:],target)\n",
    "\n",
    "user_list = [3,5,98,34,56,23,11,24,12]\n",
    "result = binary_search(user_list, 12)\n",
    "print(result)\n",
    "\n",
    "# The abstraction was added with the parameters of nums and target number. \n",
    "# The two defined functions have different functions but both of them are able to be called\n",
    "# By having subprocedures the two functions sort the numbers in the given unsorted list and perform the binary search"
   ]
  },
  {
   "cell_type": "markdown",
   "metadata": {},
   "source": [
    "- Add another layer of abstraction to the word counter program (HINT: create a function that can count the number of words starting with ANY character in a given string -- how can we leverage parameters for this?)"
   ]
  },
  {
   "cell_type": "code",
   "execution_count": 35,
   "metadata": {},
   "outputs": [
    {
     "name": "stdout",
     "output_type": "stream",
     "text": [
      "Words that start with y: 1\n",
      "Words that start with e: 0\n"
     ]
    }
   ],
   "source": [
    "def split_string(s):\n",
    "    words = s.split(\" \")\n",
    "    new_words = []\n",
    "    for word in words:\n",
    "        if word != \"\":\n",
    "            new_words.append(word)  \n",
    "    return words\n",
    "\n",
    "def count_words_starting_with_letter(words, letter):\n",
    "    count = 0 \n",
    "    for word in words:\n",
    "        if word.lower().startswith(letter):\n",
    "            count += 1\n",
    "    return count\n",
    "\n",
    "\n",
    "def count_words_starting_with_a_in_string(s):\n",
    "    words = split_string(s)\n",
    "    count = count_words_starting_with_letter(words, \"a\")\n",
    "    return count\n",
    "\n",
    "def count_words_starting_with_d_in_string(s):\n",
    "    words = split_string(s)\n",
    "    count = count_words_starting_with_letter(words, \"d\")\n",
    "    return count\n",
    "\n",
    "# HACKS\n",
    "def count_words_starting_with_any_letter_in_string(s, z):\n",
    "    words = split_string(s)\n",
    "    count = count_words_starting_with_letter(words, z)\n",
    "    return count\n",
    "\n",
    "# using hacks:\n",
    "string = \"hey yall this is a test string!\"\n",
    "y = \"y\"\n",
    "e = \"e\"\n",
    "s_count1 = count_words_starting_with_any_letter_in_string(string, y)\n",
    "s_count2 = count_words_starting_with_any_letter_in_string(string, e)\n",
    "print(\"Words that start with y:\", s_count1)\n",
    "print(\"Words that start with e:\", s_count2)"
   ]
  },
  {
   "cell_type": "markdown",
   "metadata": {},
   "source": [
    "### Lesson 3.13 (3.C)\n",
    "1. Define procedure names and arguments in your own words.\n",
    "\n",
    "    procedure names: names that are used to give a function a name\n",
    "\n",
    "    arguments: a value that is given to a function when it is called\n",
    "\n",
    "2. Code some procedures that use arguments and parameters with Javascript and HTML (make sure they are interactive on your hacks page, allowing the user to input numbers and click a button to produce an output)\n",
    "    - Add two numbers\n",
    "    - Subtract two numbers\n",
    "    - Multiply two numbers\n",
    "    - Divide two numbers"
   ]
  },
  {
   "cell_type": "code",
   "execution_count": null,
   "metadata": {
    "vscode": {
     "languageId": "html"
    }
   },
   "outputs": [],
   "source": [
    "<!-- function -->\n",
    "<p>var a = 7</p>\n",
    "<p>var b = 13</p>\n",
    "<button id=\"enter\" onclick=\"add(a,b)\">add</button> \n",
    "<p id=\"resultadd\"></p>\n",
    "<button id=\"enter\" onclick=\"subtract(a,b)\">subtract</button> \n",
    "<p id=\"resultsub\"></p>\n",
    "<button id=\"enter\" onclick=\"multiply(a,b)\">multiply</button> \n",
    "<p id=\"resultmult\"></p>\n",
    "<button id=\"enter\" onclick=\"divide(a,b)\">divide</button> \n",
    "<p id=\"resultdiv\"></p>\n",
    "\n",
    "<!-- javascript -->\n",
    "<script>\n",
    "    function add(a,b) {\n",
    "        document.getElementById(\"resultadd\").innerHTML = a + b // math\n",
    "    }\n",
    "    function subtract(a,b) {\n",
    "        document.getElementById(\"resultsub\").innerHTML = a - b\n",
    "    }\n",
    "    function multiply(a,b) {\n",
    "        document.getElementById(\"resultmult\").innerHTML = a * b // math\n",
    "    }\n",
    "    function divide(a,b) {\n",
    "        document.getElementById(\"resultdiv\").innerHTML = a / b // math\n",
    "    }\n",
    "    // variables are defined\n",
    "    var a = 7\n",
    "    var b = 13\n",
    "</script>"
   ]
  }
 ],
 "metadata": {
  "kernelspec": {
   "display_name": "Python 3.10.6 64-bit",
   "language": "python",
   "name": "python3"
  },
  "language_info": {
   "codemirror_mode": {
    "name": "ipython",
    "version": 3
   },
   "file_extension": ".py",
   "mimetype": "text/x-python",
   "name": "python",
   "nbconvert_exporter": "python",
   "pygments_lexer": "ipython3",
   "version": "3.10.6"
  },
  "orig_nbformat": 4,
  "vscode": {
   "interpreter": {
    "hash": "b0fa6594d8f4cbf19f97940f81e996739fb7646882a419484c72d19e05852a7e"
   }
  }
 },
 "nbformat": 4,
 "nbformat_minor": 2
}
