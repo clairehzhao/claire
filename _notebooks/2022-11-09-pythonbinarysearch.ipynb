{
 "cells": [
  {
   "cell_type": "markdown",
   "metadata": {},
   "source": [
    "# Binary Search\n",
    "> Binary Search Function in Python\n",
    "- categories: [python, markdown, week12, jupyter] "
   ]
  },
  {
   "cell_type": "code",
   "execution_count": 16,
   "metadata": {},
   "outputs": [
    {
     "name": "stdout",
     "output_type": "stream",
     "text": [
      "===============================\n",
      "mid_index is  7\n",
      "len of nums is  14\n",
      "[1, 4, 6, 7, 9, 10, 11, 12, 15, 20, 24, 59, 73, 88]\n",
      "12\n",
      "Found match value!\n",
      "12\n",
      "===============================\n",
      "mid_index is  7\n",
      "len of nums is  14\n",
      "[1, 4, 6, 7, 9, 10, 11, 12, 15, 20, 24, 59, 73, 88]\n",
      "5\n",
      "===============================\n",
      "mid_index is  3\n",
      "len of nums is  7\n",
      "[1, 4, 6, 7, 9, 10, 11]\n",
      "5\n",
      "===============================\n",
      "mid_index is  1\n",
      "len of nums is  3\n",
      "[1, 4, 6]\n",
      "5\n",
      "===============================\n",
      "mid_index is  1\n",
      "len of nums is  2\n",
      "[4, 6]\n",
      "5\n",
      "===============================\n",
      "mid_index is  0\n",
      "len of nums is  1\n",
      "[4]\n",
      "5\n",
      "Result not found.\n",
      "None\n"
     ]
    }
   ],
   "source": [
    "def binary_search(nums, target):\n",
    "\n",
    "    mid_val = len(nums)//2\n",
    "\n",
    "    print(\"===============================\")\n",
    "    print(\"mid_index is \", mid_val)\n",
    "    print(\"len of nums is \", len(nums))\n",
    "    print(nums)\n",
    "    print(target)\n",
    "\n",
    "    if target == nums[mid_val]:\n",
    "        print(\"Found match value!\")\n",
    "        return nums[mid_val]\n",
    "\n",
    "    elif len(nums) == 1:\n",
    "        print(\"Found closest value!\")\n",
    "        return nums\n",
    "\n",
    "    elif target < nums[mid_val]:\n",
    "        binary_search(nums[:mid_val],target)\n",
    "    else:\n",
    "        binary_search(nums[mid_val:],target)\n",
    "\n",
    "num_list = [1,4,6,7,9,10,11,12,15,20,24,59,73,88]\n",
    "result = binary_search(num_list,12)\n",
    "print(result)\n",
    "\n",
    "result = binary_search(num_list,5)\n",
    "print(result)"
   ]
  }
 ],
 "metadata": {
  "kernelspec": {
   "display_name": "Python 3.10.6 64-bit",
   "language": "python",
   "name": "python3"
  },
  "language_info": {
   "codemirror_mode": {
    "name": "ipython",
    "version": 3
   },
   "file_extension": ".py",
   "mimetype": "text/x-python",
   "name": "python",
   "nbconvert_exporter": "python",
   "pygments_lexer": "ipython3",
   "version": "3.10.6"
  },
  "orig_nbformat": 4,
  "vscode": {
   "interpreter": {
    "hash": "b0fa6594d8f4cbf19f97940f81e996739fb7646882a419484c72d19e05852a7e"
   }
  }
 },
 "nbformat": 4,
 "nbformat_minor": 2
}
