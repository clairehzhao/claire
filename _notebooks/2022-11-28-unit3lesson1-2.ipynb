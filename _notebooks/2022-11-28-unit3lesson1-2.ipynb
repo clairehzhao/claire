{
 "cells": [
  {
   "attachments": {},
   "cell_type": "markdown",
   "metadata": {},
   "source": [
    "# Unit 3 Lesson 1-2 Hacks and Notes\n",
    "> Variables and Assignments and Data Abstraction\n",
    "- toc: true\n",
    "- categories: [student teaching, week14, jupyter, python, markdown]"
   ]
  },
  {
   "cell_type": "markdown",
   "metadata": {},
   "source": [
    "## Notes:\n",
    "- variable\n",
    "    - holds a value\n",
    "- data types\n",
    "    - integer\n",
    "    - string\n",
    "    - boolean\n",
    "- assignment operator\n",
    "    - college board uses: <-\n",
    "- list index\n",
    "    - python lets u index from front of list and back of list\n",
    "- long and short way to print lists\n",
    "    - short way better\n",
    "    - able to write code in shorter length and with less clutter\n",
    "- assignming values to one variable\n",
    "    - uses []"
   ]
  },
  {
   "cell_type": "markdown",
   "metadata": {},
   "source": [
    "## Hacks:\n",
    "## What is a variable? (3.1.1)\n",
    "Code with variables:"
   ]
  },
  {
   "cell_type": "code",
   "execution_count": 10,
   "metadata": {},
   "outputs": [
    {
     "name": "stdout",
     "output_type": "stream",
     "text": [
      "Hey my name is claire and I am 15 years old.\n"
     ]
    }
   ],
   "source": [
    "# use of string\n",
    "name = input(\"What is your name?\")\n",
    "# use of integers\n",
    "age = 15\n",
    "\n",
    "print(f\"Hey my name is {name} and I am {age} years old.\")"
   ]
  },
  {
   "cell_type": "markdown",
   "metadata": {},
   "source": [
    "## Variables (3.1.2)\n",
    "Questions:\n",
    "1. An assignment operator assigns a new value to a variable.\n",
    "2. <- is the symbol collegeboard psuedocode uses\n",
    "3. 22"
   ]
  },
  {
   "cell_type": "markdown",
   "metadata": {},
   "source": [
    "## Lists (3.2.1)\n",
    "Questions:\n",
    "1. A list is something that is used to store multiple variables in one variable. It is in brackets and separated with commas.\n",
    "2. Individual strings that are inside of the list.\n",
    "3. index the list or string (ex. list[1])\n",
    "4. an example of a string is \"hey guys\""
   ]
  },
  {
   "cell_type": "code",
   "execution_count": 31,
   "metadata": {},
   "outputs": [
    {
     "name": "stdout",
     "output_type": "stream",
     "text": [
      "acai\n",
      "thin mints\n"
     ]
    }
   ],
   "source": [
    "favfoods = [\"acai\", \"pasta\", \"thin mints\", \"coffee\"]\n",
    "\n",
    "print(favfoods[0])\n",
    "print(favfoods[-2])\n"
   ]
  },
  {
   "cell_type": "markdown",
   "metadata": {},
   "source": [
    "## Data Abstraction with Lists (3.2.2)"
   ]
  },
  {
   "cell_type": "code",
   "execution_count": 22,
   "metadata": {},
   "outputs": [
    {
     "name": "stdout",
     "output_type": "stream",
     "text": [
      "[5, 6, 7]\n"
     ]
    }
   ],
   "source": [
    "num1 = input(\"Input a number. \")\n",
    "num2 = input(\"Input a number. \")\n",
    "num3 = input(\"Input a number. \")\n",
    "add = input(\"How much would you like to add? \")\n",
    "\n",
    "# Add code in the space below\n",
    "num1 = int(num1)\n",
    "num2 = int(num2)\n",
    "num3 = int(num3)\n",
    "\n",
    "numlist = [num1, num2, num3]\n",
    "\n",
    "# The following is the code that adds the inputted addend to the other numbers. It is hidden from the user.\n",
    "\n",
    "for i in numlist:\n",
    "    numlist[i-1] += int(add)\n",
    "\n",
    "print(numlist)"
   ]
  },
  {
   "cell_type": "markdown",
   "metadata": {},
   "source": [
    "## Managing Complexity with lists (3.2.3)"
   ]
  },
  {
   "cell_type": "code",
   "execution_count": 23,
   "metadata": {},
   "outputs": [
    {
     "name": "stdout",
     "output_type": "stream",
     "text": [
      "Hello, clairezhao running /opt/homebrew/opt/python@3.10/bin/python3.10\n",
      "You will be asked 4 questions.\n",
      "Question: Are you ready to take a test?\n",
      "Question: The purpose of lists and dictionaries are to manage the ____ of a program\n",
      "complexity is correct!\n",
      "Question: Lists are a form of data ______\n",
      "abstraction is correct!\n",
      "Question: Which brackets are used to assign values to a variable to make a list?\n",
      "[] is correct!\n",
      "clairezhao you scored 3/4\n"
     ]
    }
   ],
   "source": [
    "import getpass, sys\n",
    "\n",
    "def question_with_response(prompt):\n",
    "    print(\"Question: \" + prompt)\n",
    "    msg = input()\n",
    "    return msg\n",
    "\n",
    "questions = 4\n",
    "correct = 0\n",
    "\n",
    "print('Hello, ' + getpass.getuser() + \" running \" + sys.executable)\n",
    "print(\"You will be asked \" + str(questions) + \" questions.\")\n",
    "question_with_response(\"Are you ready to take a test?\")\n",
    "\n",
    "rsp = question_with_response(\"The purpose of lists and dictionaries are to manage the ____ of a program\")\n",
    "if rsp == \"complexity\":\n",
    "    print(rsp + \" is correct!\")\n",
    "    correct += 1\n",
    "else:\n",
    "    print(rsp + \" is incorrect!\")\n",
    "\n",
    "rsp = question_with_response(\"Lists are a form of data ______\")\n",
    "if rsp == \"abstraction\":\n",
    "    print(rsp + \" is correct!\")\n",
    "    correct += 1\n",
    "else:\n",
    "    print(rsp + \" is incorrect!\")\n",
    "\n",
    "rsp = question_with_response(\"Which brackets are used to assign values to a variable to make a list?\")\n",
    "if rsp == \"[]\":\n",
    "    print(rsp + \" is correct!\")\n",
    "    correct += 1\n",
    "else:\n",
    "    print(rsp + \" is incorrect!\") \n",
    "\n",
    "print(getpass.getuser() + \" you scored \" + str(correct) +\"/\" + str(questions))"
   ]
  },
  {
   "cell_type": "code",
   "execution_count": 27,
   "metadata": {},
   "outputs": [
    {
     "name": "stdout",
     "output_type": "stream",
     "text": [
      "pizza hot dog sushi strawberry sandwich\n",
      "('pizza', 'hot dog', 'sushi', 'strawberry', 'sandwich')\n"
     ]
    }
   ],
   "source": [
    "food1 = \"pizza\"\n",
    "food2 = \"hot dog\"\n",
    "food3 = \"sushi\"\n",
    "food4 = \"strawberry\"\n",
    "food5 = \"sandwich\"\n",
    "print(food1, food2, food3, food4, food5)\n",
    "\n",
    "foods = [\"pizza\", \"hot dog\", \"sushi\", \"strawberry\", \"sandwich\")\n",
    "print(foods]"
   ]
  },
  {
   "cell_type": "markdown",
   "metadata": {},
   "source": [
    "- Lists are better for a program rather than writing lines of codes because it makes things written in less lines of code so that it is easier to read and less of a mess when looking at the code. Code that some would write in 10 lines can be written in 10"
   ]
  },
  {
   "cell_type": "code",
   "execution_count": 29,
   "metadata": {},
   "outputs": [
    {
     "name": "stdout",
     "output_type": "stream",
     "text": [
      "66 72 63 79 60 82\n",
      "[66, 72, 63, 79, 60, 82]\n"
     ]
    }
   ],
   "source": [
    "# long way\n",
    "temp1 = 66\n",
    "temp2 = 72\n",
    "temp3 = 63\n",
    "temp4 = 79\n",
    "temp5 = 60\n",
    "temp6 = 82\n",
    "print(temp1, temp2, temp3, temp4, temp5, temp6)\n",
    "\n",
    "# short way\n",
    "temperature = [66, 72, 63, 79, 60, 82]\n",
    "print(temperature)"
   ]
  }
 ],
 "metadata": {
  "kernelspec": {
   "display_name": "Python 3.10.6 64-bit",
   "language": "python",
   "name": "python3"
  },
  "language_info": {
   "codemirror_mode": {
    "name": "ipython",
    "version": 3
   },
   "file_extension": ".py",
   "mimetype": "text/x-python",
   "name": "python",
   "nbconvert_exporter": "python",
   "pygments_lexer": "ipython3",
   "version": "3.10.6"
  },
  "orig_nbformat": 4,
  "vscode": {
   "interpreter": {
    "hash": "b0fa6594d8f4cbf19f97940f81e996739fb7646882a419484c72d19e05852a7e"
   }
  }
 },
 "nbformat": 4,
 "nbformat_minor": 2
}
