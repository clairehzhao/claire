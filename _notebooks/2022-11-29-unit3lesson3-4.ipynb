{
 "cells": [
  {
   "cell_type": "markdown",
   "metadata": {},
   "source": [
    "# Unit 3 Lesson 3-4 Hacks and Notes\n",
    "> Hacks to show understanding\n",
    "- toc: true\n",
    "- categories: [week14, jupyter, python]"
   ]
  },
  {
   "cell_type": "markdown",
   "metadata": {},
   "source": [
    "## Notes:\n",
    "- three parts of algorithm\n",
    "    - sequencing\n",
    "    - selection\n",
    "    - iteration\n",
    "- arithmetic operations\n",
    "    - addition\n",
    "    - sbtraction\n",
    "    - multiplication\n",
    "    - division\n",
    "    - modulus\n",
    "- strings\n",
    "    - ordered sequences of characters\n",
    "    - some procedures may exist that can be used with strings\n",
    "    - each language has its own procedures, methods, and functions"
   ]
  },
  {
   "cell_type": "markdown",
   "metadata": {},
   "source": [
    "## Hacks:\n",
    "## 3.3 \n",
    "- sequencing: \n",
    "1. Set item to number to search for.\n",
    "2. Get next number in the list.\n",
    "3. If number = item, display \"item found\"\n",
    "4. If there are more numbers in the list, go back to Step 2.\n",
    "5. Display \"item not found\".\n",
    "\n",
    "- selection:\n",
    "3. If number = item, display \"item found\"\n",
    "\n",
    "- iteration:\n",
    "4. If there are more numbers in the list, go back to Step 2."
   ]
  },
  {
   "cell_type": "markdown",
   "metadata": {},
   "source": [
    "Aritmetic Expression:"
   ]
  },
  {
   "cell_type": "code",
   "execution_count": 2,
   "metadata": {},
   "outputs": [],
   "source": [
    "num1 = 5\n",
    "num2 = num1 * 3\n",
    "num3 = num2 / num1 * (9 % 2) * 4\n",
    "result = (num3 % num1 + num2) % num3 * 3 / 5"
   ]
  },
  {
   "cell_type": "markdown",
   "metadata": {},
   "source": [
    "answer is 3"
   ]
  },
  {
   "cell_type": "markdown",
   "metadata": {},
   "source": [
    "Crossword Puzzle:\n",
    "3 across: sequence\n",
    "1 down: iteration\n",
    "2 down: selection"
   ]
  },
  {
   "cell_type": "markdown",
   "metadata": {},
   "source": [
    "## 3.4 "
   ]
  },
  {
   "cell_type": "markdown",
   "metadata": {},
   "source": [
    "Challenge Problem:"
   ]
  },
  {
   "cell_type": "code",
   "execution_count": 3,
   "metadata": {},
   "outputs": [
    {
     "name": "stdout",
     "output_type": "stream",
     "text": [
      "gree pa\n",
      "16\n",
      "7\n"
     ]
    }
   ],
   "source": [
    "string1 = \"degree\"\n",
    "string2 = \" passenger\"\n",
    "FinalString = string1 + string2\n",
    "print(FinalString[2:9])\n",
    "print(len(FinalString))\n",
    "print(len(FinalString[2:9]))"
   ]
  },
  {
   "cell_type": "markdown",
   "metadata": {},
   "source": [
    "Quiz:\n",
    "![]({{ site.baseurl }}/images/quizimage.jpeg)"
   ]
  }
 ],
 "metadata": {
  "kernelspec": {
   "display_name": "Python 3.10.6 64-bit",
   "language": "python",
   "name": "python3"
  },
  "language_info": {
   "codemirror_mode": {
    "name": "ipython",
    "version": 3
   },
   "file_extension": ".py",
   "mimetype": "text/x-python",
   "name": "python",
   "nbconvert_exporter": "python",
   "pygments_lexer": "ipython3",
   "version": "3.10.6"
  },
  "orig_nbformat": 4,
  "vscode": {
   "interpreter": {
    "hash": "b0fa6594d8f4cbf19f97940f81e996739fb7646882a419484c72d19e05852a7e"
   }
  }
 },
 "nbformat": 4,
 "nbformat_minor": 2
}
